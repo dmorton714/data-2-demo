{
  "nbformat": 4,
  "nbformat_minor": 0,
  "metadata": {
    "colab": {
      "provenance": [],
      "authorship_tag": "ABX9TyOD4pa9jk8o8Xsdiq2qgCv1",
      "include_colab_link": true
    },
    "kernelspec": {
      "name": "python3",
      "display_name": "Python 3"
    },
    "language_info": {
      "name": "python"
    }
  },
  "cells": [
    {
      "cell_type": "markdown",
      "metadata": {
        "id": "view-in-github",
        "colab_type": "text"
      },
      "source": [
        "<a href=\"https://colab.research.google.com/github/dmorton714/data-2-demo/blob/main/healthcare.ipynb\" target=\"_parent\"><img src=\"https://colab.research.google.com/assets/colab-badge.svg\" alt=\"Open In Colab\"/></a>"
      ]
    },
    {
      "cell_type": "code",
      "execution_count": 16,
      "metadata": {
        "id": "c4Zfqtrf60Vu"
      },
      "outputs": [],
      "source": [
        "import pandas as pd\n",
        "import requests\n",
        "import json\n",
        "import urllib3\n",
        "from pandas import json_normalize\n"
      ]
    },
    {
      "cell_type": "markdown",
      "source": [
        "Link to the first set of data:  https://www.healthit.gov/data/open-api?source=Surescripts_County_04-2014.csv\n",
        "<br>\n",
        "\n",
        "Preform an API call to read this into a data frame. \n",
        "\n",
        "Helpful links:\n",
        "\n",
        "https://realpython.com/api-integration-in-python/\n",
        "<br>\n",
        "<br>\n",
        "https://www.dataquest.io/blog/python-api-tutorial/\n",
        "<br>\n",
        "<br>\n",
        "https://pandas.pydata.org/docs/reference/api/pandas.json_normalize.html"
      ],
      "metadata": {
        "id": "CRCETJCnWJap"
      }
    },
    {
      "cell_type": "code",
      "source": [
        "# Your code here"
      ],
      "metadata": {
        "id": "9-BWfuaR6_qa"
      },
      "execution_count": 11,
      "outputs": []
    },
    {
      "cell_type": "markdown",
      "source": [
        "Now import the data from the following URL: https://raw.githubusercontent.com/dmorton714/data-2-demo/main/states.csv\n",
        "\n",
        "\n",
        "Helpful links: \n",
        "<br>\n",
        "https://codeigo.com/python/read-a-csv-file-from-a-url\n",
        "<br>\n"
      ],
      "metadata": {
        "id": "qN5yGJJvbUKd"
      }
    },
    {
      "cell_type": "code",
      "source": [
        "# your code here"
      ],
      "metadata": {
        "id": "p9cvH1r170ql"
      },
      "execution_count": 19,
      "outputs": []
    }
  ]
}