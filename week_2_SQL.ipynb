{
  "nbformat": 4,
  "nbformat_minor": 0,
  "metadata": {
    "colab": {
      "provenance": [],
      "include_colab_link": true
    },
    "kernelspec": {
      "name": "python3",
      "display_name": "Python 3"
    },
    "language_info": {
      "name": "python"
    }
  },
  "cells": [
    {
      "cell_type": "markdown",
      "metadata": {
        "id": "view-in-github",
        "colab_type": "text"
      },
      "source": [
        "<a href=\"https://colab.research.google.com/github/dmorton714/data-2-demo/blob/main/week_2_SQL.ipynb\" target=\"_parent\"><img src=\"https://colab.research.google.com/assets/colab-badge.svg\" alt=\"Open In Colab\"/></a>"
      ]
    },
    {
      "cell_type": "code",
      "execution_count": null,
      "metadata": {
        "id": "c4Zfqtrf60Vu"
      },
      "outputs": [],
      "source": [
        "import pandas as pd\n",
        "import matplotlib as plt\n",
        "import matplotlib.pyplot as plt\n"
      ]
    },
    {
      "cell_type": "markdown",
      "source": [
        "Link to the first set of data (this is a JSON file):  https://www.healthit.gov/data/open-api?source=Surescripts_County_04-2014.csv"
      ],
      "metadata": {
        "id": "CRCETJCnWJap"
      }
    },
    {
      "cell_type": "code",
      "source": [
        "Surescripts_Network = pd.read_json(\"https://www.healthit.gov/data/open-api?source=Surescripts_County_04-2014.csv\")\n",
        "# Surescripts_Network.head()"
      ],
      "metadata": {
        "id": "9-BWfuaR6_qa"
      },
      "execution_count": null,
      "outputs": []
    },
    {
      "cell_type": "markdown",
      "source": [
        "kaggle link to the data: https://www.kaggle.com/datasets/hhs/health-insurance"
      ],
      "metadata": {
        "id": "qN5yGJJvbUKd"
      }
    },
    {
      "cell_type": "code",
      "source": [
        "aca_coverage = pd.read_csv(\"https://raw.githubusercontent.com/dmorton714/data-2-demo/main/states.csv\")\n",
        "# aca_coverage.head()"
      ],
      "metadata": {
        "id": "p9cvH1r170ql"
      },
      "execution_count": null,
      "outputs": []
    },
    {
      "cell_type": "code",
      "source": [
        "def type_convert(df):\n",
        "  df['State'] = df['State'].astype('string')\n",
        "  df['Marketplace Tax Credits (2016)'] = df['Marketplace Tax Credits (2016)'].astype('float')\n",
        "  df['State Medicaid Expansion (2016)'] = df['State Medicaid Expansion (2016)'].astype('bool')\n",
        "  df['Average Monthly Tax Credit (2016)'] = df['Average Monthly Tax Credit (2016)'].str.replace(' ', '').str.lstrip(\"$\").astype('int')\n",
        "  return(df)"
      ],
      "metadata": {
        "id": "Jgvobl8z_iCR"
      },
      "execution_count": null,
      "outputs": []
    },
    {
      "cell_type": "code",
      "source": [
        "aca_coverage = type_convert(aca_coverage)"
      ],
      "metadata": {
        "id": "kiWPl-aFAGqM"
      },
      "execution_count": null,
      "outputs": []
    },
    {
      "cell_type": "code",
      "source": [
        "Surescripts_Network['Period'] = pd.to_datetime(Surescripts_Network['Period'])\n",
        "# Surescripts_Network.head()"
      ],
      "metadata": {
        "id": "OGNbh5jspgbA"
      },
      "execution_count": null,
      "outputs": []
    },
    {
      "cell_type": "code",
      "source": [
        "# Lets change the column names so they are all lowercase and don't have any spaces. Let's also give the last column name a better title.\n",
        "surescripts = Surescripts_Network\n",
        "surescripts"
      ],
      "metadata": {
        "id": "zkChcRBBwopt",
        "colab": {
          "base_uri": "https://localhost:8080/",
          "height": 641
        },
        "outputId": "2b85eb1f-a245-4524-e0d2-db2e38efc19b"
      },
      "execution_count": null,
      "outputs": [
        {
          "output_type": "execute_result",
          "data": {
            "text/plain": [
              "       Region Region Code County Name  State FIPS  County FIPS     FIPS  \\\n",
              "0     Alabama          AL     Autauga         1.0          1.0   1001.0   \n",
              "1     Alabama          AL     Baldwin         1.0          3.0   1003.0   \n",
              "2     Alabama          AL     Barbour         1.0          5.0   1005.0   \n",
              "3     Alabama          AL        Bibb         1.0          7.0   1007.0   \n",
              "4     Alabama          AL      Blount         1.0          9.0   1009.0   \n",
              "...       ...         ...         ...         ...          ...      ...   \n",
              "2933  Wyoming          WY       Teton        56.0         39.0  56039.0   \n",
              "2934  Wyoming          WY       Uinta        56.0         41.0  56041.0   \n",
              "2935  Wyoming          WY    Washakie        56.0         43.0  56043.0   \n",
              "2936  Wyoming          WY      Weston        56.0         45.0  56045.0   \n",
              "2937                  NaN         NaN         NaN          NaN      NaN   \n",
              "\n",
              "         Period  \\\n",
              "0    2014-04-01   \n",
              "1    2014-04-01   \n",
              "2    2014-04-01   \n",
              "3    2014-04-01   \n",
              "4    2014-04-01   \n",
              "...         ...   \n",
              "2933 2014-04-01   \n",
              "2934 2014-04-01   \n",
              "2935 2014-04-01   \n",
              "2936 2014-04-01   \n",
              "2937        NaT   \n",
              "\n",
              "      Percent of Physicians Actively Using an EHR to e-Prescribe via the Surescripts Network  \n",
              "0                                                  0.33                                       \n",
              "1                                                  0.68                                       \n",
              "2                                                  0.52                                       \n",
              "3                                                  1.00                                       \n",
              "4                                                  0.21                                       \n",
              "...                                                 ...                                       \n",
              "2933                                               0.46                                       \n",
              "2934                                               0.36                                       \n",
              "2935                                               0.89                                       \n",
              "2936                                               1.00                                       \n",
              "2937                                                NaN                                       \n",
              "\n",
              "[2938 rows x 8 columns]"
            ],
            "text/html": [
              "\n",
              "  <div id=\"df-6afc78d1-b6ac-4014-a945-5e616a12f2af\">\n",
              "    <div class=\"colab-df-container\">\n",
              "      <div>\n",
              "<style scoped>\n",
              "    .dataframe tbody tr th:only-of-type {\n",
              "        vertical-align: middle;\n",
              "    }\n",
              "\n",
              "    .dataframe tbody tr th {\n",
              "        vertical-align: top;\n",
              "    }\n",
              "\n",
              "    .dataframe thead th {\n",
              "        text-align: right;\n",
              "    }\n",
              "</style>\n",
              "<table border=\"1\" class=\"dataframe\">\n",
              "  <thead>\n",
              "    <tr style=\"text-align: right;\">\n",
              "      <th></th>\n",
              "      <th>Region</th>\n",
              "      <th>Region Code</th>\n",
              "      <th>County Name</th>\n",
              "      <th>State FIPS</th>\n",
              "      <th>County FIPS</th>\n",
              "      <th>FIPS</th>\n",
              "      <th>Period</th>\n",
              "      <th>Percent of Physicians Actively Using an EHR to e-Prescribe via the Surescripts Network</th>\n",
              "    </tr>\n",
              "  </thead>\n",
              "  <tbody>\n",
              "    <tr>\n",
              "      <th>0</th>\n",
              "      <td>Alabama</td>\n",
              "      <td>AL</td>\n",
              "      <td>Autauga</td>\n",
              "      <td>1.0</td>\n",
              "      <td>1.0</td>\n",
              "      <td>1001.0</td>\n",
              "      <td>2014-04-01</td>\n",
              "      <td>0.33</td>\n",
              "    </tr>\n",
              "    <tr>\n",
              "      <th>1</th>\n",
              "      <td>Alabama</td>\n",
              "      <td>AL</td>\n",
              "      <td>Baldwin</td>\n",
              "      <td>1.0</td>\n",
              "      <td>3.0</td>\n",
              "      <td>1003.0</td>\n",
              "      <td>2014-04-01</td>\n",
              "      <td>0.68</td>\n",
              "    </tr>\n",
              "    <tr>\n",
              "      <th>2</th>\n",
              "      <td>Alabama</td>\n",
              "      <td>AL</td>\n",
              "      <td>Barbour</td>\n",
              "      <td>1.0</td>\n",
              "      <td>5.0</td>\n",
              "      <td>1005.0</td>\n",
              "      <td>2014-04-01</td>\n",
              "      <td>0.52</td>\n",
              "    </tr>\n",
              "    <tr>\n",
              "      <th>3</th>\n",
              "      <td>Alabama</td>\n",
              "      <td>AL</td>\n",
              "      <td>Bibb</td>\n",
              "      <td>1.0</td>\n",
              "      <td>7.0</td>\n",
              "      <td>1007.0</td>\n",
              "      <td>2014-04-01</td>\n",
              "      <td>1.00</td>\n",
              "    </tr>\n",
              "    <tr>\n",
              "      <th>4</th>\n",
              "      <td>Alabama</td>\n",
              "      <td>AL</td>\n",
              "      <td>Blount</td>\n",
              "      <td>1.0</td>\n",
              "      <td>9.0</td>\n",
              "      <td>1009.0</td>\n",
              "      <td>2014-04-01</td>\n",
              "      <td>0.21</td>\n",
              "    </tr>\n",
              "    <tr>\n",
              "      <th>...</th>\n",
              "      <td>...</td>\n",
              "      <td>...</td>\n",
              "      <td>...</td>\n",
              "      <td>...</td>\n",
              "      <td>...</td>\n",
              "      <td>...</td>\n",
              "      <td>...</td>\n",
              "      <td>...</td>\n",
              "    </tr>\n",
              "    <tr>\n",
              "      <th>2933</th>\n",
              "      <td>Wyoming</td>\n",
              "      <td>WY</td>\n",
              "      <td>Teton</td>\n",
              "      <td>56.0</td>\n",
              "      <td>39.0</td>\n",
              "      <td>56039.0</td>\n",
              "      <td>2014-04-01</td>\n",
              "      <td>0.46</td>\n",
              "    </tr>\n",
              "    <tr>\n",
              "      <th>2934</th>\n",
              "      <td>Wyoming</td>\n",
              "      <td>WY</td>\n",
              "      <td>Uinta</td>\n",
              "      <td>56.0</td>\n",
              "      <td>41.0</td>\n",
              "      <td>56041.0</td>\n",
              "      <td>2014-04-01</td>\n",
              "      <td>0.36</td>\n",
              "    </tr>\n",
              "    <tr>\n",
              "      <th>2935</th>\n",
              "      <td>Wyoming</td>\n",
              "      <td>WY</td>\n",
              "      <td>Washakie</td>\n",
              "      <td>56.0</td>\n",
              "      <td>43.0</td>\n",
              "      <td>56043.0</td>\n",
              "      <td>2014-04-01</td>\n",
              "      <td>0.89</td>\n",
              "    </tr>\n",
              "    <tr>\n",
              "      <th>2936</th>\n",
              "      <td>Wyoming</td>\n",
              "      <td>WY</td>\n",
              "      <td>Weston</td>\n",
              "      <td>56.0</td>\n",
              "      <td>45.0</td>\n",
              "      <td>56045.0</td>\n",
              "      <td>2014-04-01</td>\n",
              "      <td>1.00</td>\n",
              "    </tr>\n",
              "    <tr>\n",
              "      <th>2937</th>\n",
              "      <td></td>\n",
              "      <td>NaN</td>\n",
              "      <td>NaN</td>\n",
              "      <td>NaN</td>\n",
              "      <td>NaN</td>\n",
              "      <td>NaN</td>\n",
              "      <td>NaT</td>\n",
              "      <td>NaN</td>\n",
              "    </tr>\n",
              "  </tbody>\n",
              "</table>\n",
              "<p>2938 rows × 8 columns</p>\n",
              "</div>\n",
              "      <button class=\"colab-df-convert\" onclick=\"convertToInteractive('df-6afc78d1-b6ac-4014-a945-5e616a12f2af')\"\n",
              "              title=\"Convert this dataframe to an interactive table.\"\n",
              "              style=\"display:none;\">\n",
              "        \n",
              "  <svg xmlns=\"http://www.w3.org/2000/svg\" height=\"24px\"viewBox=\"0 0 24 24\"\n",
              "       width=\"24px\">\n",
              "    <path d=\"M0 0h24v24H0V0z\" fill=\"none\"/>\n",
              "    <path d=\"M18.56 5.44l.94 2.06.94-2.06 2.06-.94-2.06-.94-.94-2.06-.94 2.06-2.06.94zm-11 1L8.5 8.5l.94-2.06 2.06-.94-2.06-.94L8.5 2.5l-.94 2.06-2.06.94zm10 10l.94 2.06.94-2.06 2.06-.94-2.06-.94-.94-2.06-.94 2.06-2.06.94z\"/><path d=\"M17.41 7.96l-1.37-1.37c-.4-.4-.92-.59-1.43-.59-.52 0-1.04.2-1.43.59L10.3 9.45l-7.72 7.72c-.78.78-.78 2.05 0 2.83L4 21.41c.39.39.9.59 1.41.59.51 0 1.02-.2 1.41-.59l7.78-7.78 2.81-2.81c.8-.78.8-2.07 0-2.86zM5.41 20L4 18.59l7.72-7.72 1.47 1.35L5.41 20z\"/>\n",
              "  </svg>\n",
              "      </button>\n",
              "      \n",
              "  <style>\n",
              "    .colab-df-container {\n",
              "      display:flex;\n",
              "      flex-wrap:wrap;\n",
              "      gap: 12px;\n",
              "    }\n",
              "\n",
              "    .colab-df-convert {\n",
              "      background-color: #E8F0FE;\n",
              "      border: none;\n",
              "      border-radius: 50%;\n",
              "      cursor: pointer;\n",
              "      display: none;\n",
              "      fill: #1967D2;\n",
              "      height: 32px;\n",
              "      padding: 0 0 0 0;\n",
              "      width: 32px;\n",
              "    }\n",
              "\n",
              "    .colab-df-convert:hover {\n",
              "      background-color: #E2EBFA;\n",
              "      box-shadow: 0px 1px 2px rgba(60, 64, 67, 0.3), 0px 1px 3px 1px rgba(60, 64, 67, 0.15);\n",
              "      fill: #174EA6;\n",
              "    }\n",
              "\n",
              "    [theme=dark] .colab-df-convert {\n",
              "      background-color: #3B4455;\n",
              "      fill: #D2E3FC;\n",
              "    }\n",
              "\n",
              "    [theme=dark] .colab-df-convert:hover {\n",
              "      background-color: #434B5C;\n",
              "      box-shadow: 0px 1px 3px 1px rgba(0, 0, 0, 0.15);\n",
              "      filter: drop-shadow(0px 1px 2px rgba(0, 0, 0, 0.3));\n",
              "      fill: #FFFFFF;\n",
              "    }\n",
              "  </style>\n",
              "\n",
              "      <script>\n",
              "        const buttonEl =\n",
              "          document.querySelector('#df-6afc78d1-b6ac-4014-a945-5e616a12f2af button.colab-df-convert');\n",
              "        buttonEl.style.display =\n",
              "          google.colab.kernel.accessAllowed ? 'block' : 'none';\n",
              "\n",
              "        async function convertToInteractive(key) {\n",
              "          const element = document.querySelector('#df-6afc78d1-b6ac-4014-a945-5e616a12f2af');\n",
              "          const dataTable =\n",
              "            await google.colab.kernel.invokeFunction('convertToInteractive',\n",
              "                                                     [key], {});\n",
              "          if (!dataTable) return;\n",
              "\n",
              "          const docLinkHtml = 'Like what you see? Visit the ' +\n",
              "            '<a target=\"_blank\" href=https://colab.research.google.com/notebooks/data_table.ipynb>data table notebook</a>'\n",
              "            + ' to learn more about interactive tables.';\n",
              "          element.innerHTML = '';\n",
              "          dataTable['output_type'] = 'display_data';\n",
              "          await google.colab.output.renderOutput(dataTable, element);\n",
              "          const docLink = document.createElement('div');\n",
              "          docLink.innerHTML = docLinkHtml;\n",
              "          element.appendChild(docLink);\n",
              "        }\n",
              "      </script>\n",
              "    </div>\n",
              "  </div>\n",
              "  "
            ]
          },
          "metadata": {},
          "execution_count": 7
        }
      ]
    },
    {
      "cell_type": "code",
      "source": [
        "from sqlite3 import connect\n",
        "coverage = aca_coverage\n",
        "conn = connect(':memory:')\n",
        "# create tables\n",
        "surescripts.to_sql(\"surescripts\", conn)\n"
      ],
      "metadata": {
        "colab": {
          "base_uri": "https://localhost:8080/"
        },
        "id": "F2-QZ-EOMLDN",
        "outputId": "6646061f-d32c-4fea-cc03-704e101459c0"
      },
      "execution_count": null,
      "outputs": [
        {
          "output_type": "execute_result",
          "data": {
            "text/plain": [
              "2938"
            ]
          },
          "metadata": {},
          "execution_count": 8
        }
      ]
    },
    {
      "cell_type": "code",
      "source": [
        "# An example of using sql syntax to read a table:\n",
        "\n",
        "pd.read_sql(\"select * from surescripts\", conn)"
      ],
      "metadata": {
        "colab": {
          "base_uri": "https://localhost:8080/",
          "height": 641
        },
        "id": "h29KaBIxwp40",
        "outputId": "a668d96e-81f0-4ec2-8662-9118e311d0f0"
      },
      "execution_count": null,
      "outputs": [
        {
          "output_type": "execute_result",
          "data": {
            "text/plain": [
              "      index   Region Region Code County Name  State FIPS  County FIPS  \\\n",
              "0         0  Alabama          AL     Autauga         1.0          1.0   \n",
              "1         1  Alabama          AL     Baldwin         1.0          3.0   \n",
              "2         2  Alabama          AL     Barbour         1.0          5.0   \n",
              "3         3  Alabama          AL        Bibb         1.0          7.0   \n",
              "4         4  Alabama          AL      Blount         1.0          9.0   \n",
              "...     ...      ...         ...         ...         ...          ...   \n",
              "2933   2933  Wyoming          WY       Teton        56.0         39.0   \n",
              "2934   2934  Wyoming          WY       Uinta        56.0         41.0   \n",
              "2935   2935  Wyoming          WY    Washakie        56.0         43.0   \n",
              "2936   2936  Wyoming          WY      Weston        56.0         45.0   \n",
              "2937   2937                 None        None         NaN          NaN   \n",
              "\n",
              "         FIPS               Period  \\\n",
              "0      1001.0  2014-04-01 00:00:00   \n",
              "1      1003.0  2014-04-01 00:00:00   \n",
              "2      1005.0  2014-04-01 00:00:00   \n",
              "3      1007.0  2014-04-01 00:00:00   \n",
              "4      1009.0  2014-04-01 00:00:00   \n",
              "...       ...                  ...   \n",
              "2933  56039.0  2014-04-01 00:00:00   \n",
              "2934  56041.0  2014-04-01 00:00:00   \n",
              "2935  56043.0  2014-04-01 00:00:00   \n",
              "2936  56045.0  2014-04-01 00:00:00   \n",
              "2937      NaN                 None   \n",
              "\n",
              "      Percent of Physicians Actively Using an EHR to e-Prescribe via the Surescripts Network  \n",
              "0                                                  0.33                                       \n",
              "1                                                  0.68                                       \n",
              "2                                                  0.52                                       \n",
              "3                                                  1.00                                       \n",
              "4                                                  0.21                                       \n",
              "...                                                 ...                                       \n",
              "2933                                               0.46                                       \n",
              "2934                                               0.36                                       \n",
              "2935                                               0.89                                       \n",
              "2936                                               1.00                                       \n",
              "2937                                                NaN                                       \n",
              "\n",
              "[2938 rows x 9 columns]"
            ],
            "text/html": [
              "\n",
              "  <div id=\"df-69d42060-a28b-442b-a93a-52a385f268f4\">\n",
              "    <div class=\"colab-df-container\">\n",
              "      <div>\n",
              "<style scoped>\n",
              "    .dataframe tbody tr th:only-of-type {\n",
              "        vertical-align: middle;\n",
              "    }\n",
              "\n",
              "    .dataframe tbody tr th {\n",
              "        vertical-align: top;\n",
              "    }\n",
              "\n",
              "    .dataframe thead th {\n",
              "        text-align: right;\n",
              "    }\n",
              "</style>\n",
              "<table border=\"1\" class=\"dataframe\">\n",
              "  <thead>\n",
              "    <tr style=\"text-align: right;\">\n",
              "      <th></th>\n",
              "      <th>index</th>\n",
              "      <th>Region</th>\n",
              "      <th>Region Code</th>\n",
              "      <th>County Name</th>\n",
              "      <th>State FIPS</th>\n",
              "      <th>County FIPS</th>\n",
              "      <th>FIPS</th>\n",
              "      <th>Period</th>\n",
              "      <th>Percent of Physicians Actively Using an EHR to e-Prescribe via the Surescripts Network</th>\n",
              "    </tr>\n",
              "  </thead>\n",
              "  <tbody>\n",
              "    <tr>\n",
              "      <th>0</th>\n",
              "      <td>0</td>\n",
              "      <td>Alabama</td>\n",
              "      <td>AL</td>\n",
              "      <td>Autauga</td>\n",
              "      <td>1.0</td>\n",
              "      <td>1.0</td>\n",
              "      <td>1001.0</td>\n",
              "      <td>2014-04-01 00:00:00</td>\n",
              "      <td>0.33</td>\n",
              "    </tr>\n",
              "    <tr>\n",
              "      <th>1</th>\n",
              "      <td>1</td>\n",
              "      <td>Alabama</td>\n",
              "      <td>AL</td>\n",
              "      <td>Baldwin</td>\n",
              "      <td>1.0</td>\n",
              "      <td>3.0</td>\n",
              "      <td>1003.0</td>\n",
              "      <td>2014-04-01 00:00:00</td>\n",
              "      <td>0.68</td>\n",
              "    </tr>\n",
              "    <tr>\n",
              "      <th>2</th>\n",
              "      <td>2</td>\n",
              "      <td>Alabama</td>\n",
              "      <td>AL</td>\n",
              "      <td>Barbour</td>\n",
              "      <td>1.0</td>\n",
              "      <td>5.0</td>\n",
              "      <td>1005.0</td>\n",
              "      <td>2014-04-01 00:00:00</td>\n",
              "      <td>0.52</td>\n",
              "    </tr>\n",
              "    <tr>\n",
              "      <th>3</th>\n",
              "      <td>3</td>\n",
              "      <td>Alabama</td>\n",
              "      <td>AL</td>\n",
              "      <td>Bibb</td>\n",
              "      <td>1.0</td>\n",
              "      <td>7.0</td>\n",
              "      <td>1007.0</td>\n",
              "      <td>2014-04-01 00:00:00</td>\n",
              "      <td>1.00</td>\n",
              "    </tr>\n",
              "    <tr>\n",
              "      <th>4</th>\n",
              "      <td>4</td>\n",
              "      <td>Alabama</td>\n",
              "      <td>AL</td>\n",
              "      <td>Blount</td>\n",
              "      <td>1.0</td>\n",
              "      <td>9.0</td>\n",
              "      <td>1009.0</td>\n",
              "      <td>2014-04-01 00:00:00</td>\n",
              "      <td>0.21</td>\n",
              "    </tr>\n",
              "    <tr>\n",
              "      <th>...</th>\n",
              "      <td>...</td>\n",
              "      <td>...</td>\n",
              "      <td>...</td>\n",
              "      <td>...</td>\n",
              "      <td>...</td>\n",
              "      <td>...</td>\n",
              "      <td>...</td>\n",
              "      <td>...</td>\n",
              "      <td>...</td>\n",
              "    </tr>\n",
              "    <tr>\n",
              "      <th>2933</th>\n",
              "      <td>2933</td>\n",
              "      <td>Wyoming</td>\n",
              "      <td>WY</td>\n",
              "      <td>Teton</td>\n",
              "      <td>56.0</td>\n",
              "      <td>39.0</td>\n",
              "      <td>56039.0</td>\n",
              "      <td>2014-04-01 00:00:00</td>\n",
              "      <td>0.46</td>\n",
              "    </tr>\n",
              "    <tr>\n",
              "      <th>2934</th>\n",
              "      <td>2934</td>\n",
              "      <td>Wyoming</td>\n",
              "      <td>WY</td>\n",
              "      <td>Uinta</td>\n",
              "      <td>56.0</td>\n",
              "      <td>41.0</td>\n",
              "      <td>56041.0</td>\n",
              "      <td>2014-04-01 00:00:00</td>\n",
              "      <td>0.36</td>\n",
              "    </tr>\n",
              "    <tr>\n",
              "      <th>2935</th>\n",
              "      <td>2935</td>\n",
              "      <td>Wyoming</td>\n",
              "      <td>WY</td>\n",
              "      <td>Washakie</td>\n",
              "      <td>56.0</td>\n",
              "      <td>43.0</td>\n",
              "      <td>56043.0</td>\n",
              "      <td>2014-04-01 00:00:00</td>\n",
              "      <td>0.89</td>\n",
              "    </tr>\n",
              "    <tr>\n",
              "      <th>2936</th>\n",
              "      <td>2936</td>\n",
              "      <td>Wyoming</td>\n",
              "      <td>WY</td>\n",
              "      <td>Weston</td>\n",
              "      <td>56.0</td>\n",
              "      <td>45.0</td>\n",
              "      <td>56045.0</td>\n",
              "      <td>2014-04-01 00:00:00</td>\n",
              "      <td>1.00</td>\n",
              "    </tr>\n",
              "    <tr>\n",
              "      <th>2937</th>\n",
              "      <td>2937</td>\n",
              "      <td></td>\n",
              "      <td>None</td>\n",
              "      <td>None</td>\n",
              "      <td>NaN</td>\n",
              "      <td>NaN</td>\n",
              "      <td>NaN</td>\n",
              "      <td>None</td>\n",
              "      <td>NaN</td>\n",
              "    </tr>\n",
              "  </tbody>\n",
              "</table>\n",
              "<p>2938 rows × 9 columns</p>\n",
              "</div>\n",
              "      <button class=\"colab-df-convert\" onclick=\"convertToInteractive('df-69d42060-a28b-442b-a93a-52a385f268f4')\"\n",
              "              title=\"Convert this dataframe to an interactive table.\"\n",
              "              style=\"display:none;\">\n",
              "        \n",
              "  <svg xmlns=\"http://www.w3.org/2000/svg\" height=\"24px\"viewBox=\"0 0 24 24\"\n",
              "       width=\"24px\">\n",
              "    <path d=\"M0 0h24v24H0V0z\" fill=\"none\"/>\n",
              "    <path d=\"M18.56 5.44l.94 2.06.94-2.06 2.06-.94-2.06-.94-.94-2.06-.94 2.06-2.06.94zm-11 1L8.5 8.5l.94-2.06 2.06-.94-2.06-.94L8.5 2.5l-.94 2.06-2.06.94zm10 10l.94 2.06.94-2.06 2.06-.94-2.06-.94-.94-2.06-.94 2.06-2.06.94z\"/><path d=\"M17.41 7.96l-1.37-1.37c-.4-.4-.92-.59-1.43-.59-.52 0-1.04.2-1.43.59L10.3 9.45l-7.72 7.72c-.78.78-.78 2.05 0 2.83L4 21.41c.39.39.9.59 1.41.59.51 0 1.02-.2 1.41-.59l7.78-7.78 2.81-2.81c.8-.78.8-2.07 0-2.86zM5.41 20L4 18.59l7.72-7.72 1.47 1.35L5.41 20z\"/>\n",
              "  </svg>\n",
              "      </button>\n",
              "      \n",
              "  <style>\n",
              "    .colab-df-container {\n",
              "      display:flex;\n",
              "      flex-wrap:wrap;\n",
              "      gap: 12px;\n",
              "    }\n",
              "\n",
              "    .colab-df-convert {\n",
              "      background-color: #E8F0FE;\n",
              "      border: none;\n",
              "      border-radius: 50%;\n",
              "      cursor: pointer;\n",
              "      display: none;\n",
              "      fill: #1967D2;\n",
              "      height: 32px;\n",
              "      padding: 0 0 0 0;\n",
              "      width: 32px;\n",
              "    }\n",
              "\n",
              "    .colab-df-convert:hover {\n",
              "      background-color: #E2EBFA;\n",
              "      box-shadow: 0px 1px 2px rgba(60, 64, 67, 0.3), 0px 1px 3px 1px rgba(60, 64, 67, 0.15);\n",
              "      fill: #174EA6;\n",
              "    }\n",
              "\n",
              "    [theme=dark] .colab-df-convert {\n",
              "      background-color: #3B4455;\n",
              "      fill: #D2E3FC;\n",
              "    }\n",
              "\n",
              "    [theme=dark] .colab-df-convert:hover {\n",
              "      background-color: #434B5C;\n",
              "      box-shadow: 0px 1px 3px 1px rgba(0, 0, 0, 0.15);\n",
              "      filter: drop-shadow(0px 1px 2px rgba(0, 0, 0, 0.3));\n",
              "      fill: #FFFFFF;\n",
              "    }\n",
              "  </style>\n",
              "\n",
              "      <script>\n",
              "        const buttonEl =\n",
              "          document.querySelector('#df-69d42060-a28b-442b-a93a-52a385f268f4 button.colab-df-convert');\n",
              "        buttonEl.style.display =\n",
              "          google.colab.kernel.accessAllowed ? 'block' : 'none';\n",
              "\n",
              "        async function convertToInteractive(key) {\n",
              "          const element = document.querySelector('#df-69d42060-a28b-442b-a93a-52a385f268f4');\n",
              "          const dataTable =\n",
              "            await google.colab.kernel.invokeFunction('convertToInteractive',\n",
              "                                                     [key], {});\n",
              "          if (!dataTable) return;\n",
              "\n",
              "          const docLinkHtml = 'Like what you see? Visit the ' +\n",
              "            '<a target=\"_blank\" href=https://colab.research.google.com/notebooks/data_table.ipynb>data table notebook</a>'\n",
              "            + ' to learn more about interactive tables.';\n",
              "          element.innerHTML = '';\n",
              "          dataTable['output_type'] = 'display_data';\n",
              "          await google.colab.output.renderOutput(dataTable, element);\n",
              "          const docLink = document.createElement('div');\n",
              "          docLink.innerHTML = docLinkHtml;\n",
              "          element.appendChild(docLink);\n",
              "        }\n",
              "      </script>\n",
              "    </div>\n",
              "  </div>\n",
              "  "
            ]
          },
          "metadata": {},
          "execution_count": 9
        }
      ]
    },
    {
      "cell_type": "markdown",
      "source": [
        "1. The most basic command is **select**. Let's 'limit' ourselves to look at the first five rows of the data for all columns."
      ],
      "metadata": {
        "id": "1pU0ohI_xNJb"
      }
    },
    {
      "cell_type": "code",
      "source": [
        "# question 1 code below\n",
        "\n"
      ],
      "metadata": {
        "id": "5HHAnsxJytpM"
      },
      "execution_count": null,
      "outputs": []
    },
    {
      "cell_type": "code",
      "source": [],
      "metadata": {
        "id": "JmZ3LrtzMxFR"
      },
      "execution_count": null,
      "outputs": []
    },
    {
      "cell_type": "markdown",
      "source": [
        "2. Let's view all rows for Texas"
      ],
      "metadata": {
        "id": "mXdCVquTzHcd"
      }
    },
    {
      "cell_type": "code",
      "source": [
        "# question 2 code here"
      ],
      "metadata": {
        "id": "zhwWPKSd0BdP"
      },
      "execution_count": null,
      "outputs": []
    },
    {
      "cell_type": "markdown",
      "source": [
        "3. Let's look at each distinct State name ending with the letter 'E'.\n",
        "\n",
        "Anyone know how many States there will be, off the top of your head?"
      ],
      "metadata": {
        "id": "cdsEKhHhyqLf"
      }
    },
    {
      "cell_type": "code",
      "source": [
        "# question 3 code here"
      ],
      "metadata": {
        "id": "Fj86DytqNa17"
      },
      "execution_count": null,
      "outputs": []
    },
    {
      "cell_type": "markdown",
      "source": [
        "4. Let's get a count of counties for the state of Kentucky. Check wikipedia to verify the answer you get :-)"
      ],
      "metadata": {
        "id": "gRVMVahp1nQn"
      }
    },
    {
      "cell_type": "code",
      "source": [],
      "metadata": {
        "id": "tJdCvCOl1n9d"
      },
      "execution_count": null,
      "outputs": []
    },
    {
      "cell_type": "markdown",
      "source": [
        "5. We're repeatedly copying the same code. Let's write a simple function to pass in the query string and return the dataframe.\n",
        "\n",
        "As a reminder, we use the `def` keyword to create a function in python. For example:\n",
        "\n",
        "```\n",
        "def add_two(a, b):\n",
        "    return a + b\n",
        "```"
      ],
      "metadata": {
        "id": "ysy0tPld1oYi"
      }
    },
    {
      "cell_type": "code",
      "source": [
        "# Write your function below this. Give it a short, memorable name.\n",
        "\n"
      ],
      "metadata": {
        "id": "kDnh3w905gR_"
      },
      "execution_count": null,
      "outputs": []
    },
    {
      "cell_type": "markdown",
      "source": [
        "To do pass in longer queries, we can use a python multi-line string with triple quotations assigned to a variable name.\n",
        "\n",
        "ie.\n",
        "```\n",
        "\"\"\"one,\n",
        "two\"\"\"\n",
        "```"
      ],
      "metadata": {
        "id": "q5Udw2Ve5f4k"
      }
    },
    {
      "cell_type": "markdown",
      "source": [
        "6. Let's select the state, county, state fips, county fips, and fips where the county fips equals 51.\n",
        "\n",
        "Use a multi-line string assigned to a query variable then pass that to the function."
      ],
      "metadata": {
        "id": "pP4C6phG6OFd"
      }
    },
    {
      "cell_type": "code",
      "source": [
        "# query = ...."
      ],
      "metadata": {
        "id": "jpUstF2B5fk3"
      },
      "execution_count": null,
      "outputs": []
    }
  ]
}