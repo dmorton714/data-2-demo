{
  "nbformat": 4,
  "nbformat_minor": 0,
  "metadata": {
    "colab": {
      "provenance": [],
      "include_colab_link": true
    },
    "kernelspec": {
      "name": "python3",
      "display_name": "Python 3"
    },
    "language_info": {
      "name": "python"
    }
  },
  "cells": [
    {
      "cell_type": "markdown",
      "metadata": {
        "id": "view-in-github",
        "colab_type": "text"
      },
      "source": [
        "<a href=\"https://colab.research.google.com/github/dmorton714/data-2-demo/blob/main/week_3.ipynb\" target=\"_parent\"><img src=\"https://colab.research.google.com/assets/colab-badge.svg\" alt=\"Open In Colab\"/></a>"
      ]
    },
    {
      "cell_type": "code",
      "execution_count": 2,
      "metadata": {
        "id": "c4Zfqtrf60Vu"
      },
      "outputs": [],
      "source": [
        "import pandas as pd\n",
        "import matplotlib as plt\n",
        "import matplotlib.pyplot as plt\n"
      ]
    },
    {
      "cell_type": "markdown",
      "source": [
        "Link to the first set of data (this is a JSON file):  https://www.healthit.gov/data/open-api?source=Surescripts_County_04-2014.csv"
      ],
      "metadata": {
        "id": "CRCETJCnWJap"
      }
    },
    {
      "cell_type": "code",
      "source": [
        "Surescripts_Network = pd.read_json(\"https://www.healthit.gov/data/open-api?source=Surescripts_County_04-2014.csv\")\n",
        "# Surescripts_Network.head()"
      ],
      "metadata": {
        "id": "9-BWfuaR6_qa"
      },
      "execution_count": 3,
      "outputs": []
    },
    {
      "cell_type": "markdown",
      "source": [
        "kaggle link to the data: https://www.kaggle.com/datasets/hhs/health-insurance"
      ],
      "metadata": {
        "id": "qN5yGJJvbUKd"
      }
    },
    {
      "cell_type": "code",
      "source": [
        "aca_coverage = pd.read_csv(\"https://raw.githubusercontent.com/dmorton714/data-2-demo/main/states.csv\")\n",
        "# aca_coverage.head()"
      ],
      "metadata": {
        "id": "p9cvH1r170ql"
      },
      "execution_count": 4,
      "outputs": []
    },
    {
      "cell_type": "code",
      "source": [
        "def type_convert(df):\n",
        "  df['State'] = df['State'].astype('string')\n",
        "  df['Marketplace Tax Credits (2016)'] = df['Marketplace Tax Credits (2016)'].astype('float')\n",
        "  df['State Medicaid Expansion (2016)'] = df['State Medicaid Expansion (2016)'].astype('bool')\n",
        "  df['Average Monthly Tax Credit (2016)'] = df['Average Monthly Tax Credit (2016)'].str.replace(' ', '').str.lstrip(\"$\").astype('int')\n",
        "  return(df)"
      ],
      "metadata": {
        "id": "Jgvobl8z_iCR"
      },
      "execution_count": 5,
      "outputs": []
    },
    {
      "cell_type": "code",
      "source": [
        "aca_coverage = type_convert(aca_coverage)"
      ],
      "metadata": {
        "id": "kiWPl-aFAGqM"
      },
      "execution_count": 6,
      "outputs": []
    },
    {
      "cell_type": "code",
      "source": [
        "Surescripts_Network['Period'] = pd.to_datetime(Surescripts_Network['Period'])\n",
        "# Surescripts_Network.head()"
      ],
      "metadata": {
        "id": "OGNbh5jspgbA"
      },
      "execution_count": 7,
      "outputs": []
    },
    {
      "cell_type": "code",
      "source": [
        "# Lets change the column names so they are all lowercase and don't have any spaces. Let's also give the last column name a better title.\n",
        "surescripts = Surescripts_Network\n",
        "surescripts.columns = surescripts.columns.str.lower()\n",
        "surescripts.columns = surescripts.columns.str.replace(\" \", \"_\")\n",
        "surescripts.head()"
      ],
      "metadata": {
        "id": "zkChcRBBwopt",
        "colab": {
          "base_uri": "https://localhost:8080/",
          "height": 206
        },
        "outputId": "1d145241-cfce-459b-b01e-80fb5fe14dd8"
      },
      "execution_count": 8,
      "outputs": [
        {
          "output_type": "execute_result",
          "data": {
            "text/plain": [
              "    region region_code county_name  state_fips  county_fips    fips  \\\n",
              "0  Alabama          AL     Autauga         1.0          1.0  1001.0   \n",
              "1  Alabama          AL     Baldwin         1.0          3.0  1003.0   \n",
              "2  Alabama          AL     Barbour         1.0          5.0  1005.0   \n",
              "3  Alabama          AL        Bibb         1.0          7.0  1007.0   \n",
              "4  Alabama          AL      Blount         1.0          9.0  1009.0   \n",
              "\n",
              "      period  \\\n",
              "0 2014-04-01   \n",
              "1 2014-04-01   \n",
              "2 2014-04-01   \n",
              "3 2014-04-01   \n",
              "4 2014-04-01   \n",
              "\n",
              "   percent_of_physicians_actively_using_an_ehr_to_e-prescribe_via_the_surescripts_network  \n",
              "0                                               0.33                                       \n",
              "1                                               0.68                                       \n",
              "2                                               0.52                                       \n",
              "3                                               1.00                                       \n",
              "4                                               0.21                                       "
            ],
            "text/html": [
              "\n",
              "  <div id=\"df-3c416de1-034a-4f0e-96eb-38ddc49f49a0\">\n",
              "    <div class=\"colab-df-container\">\n",
              "      <div>\n",
              "<style scoped>\n",
              "    .dataframe tbody tr th:only-of-type {\n",
              "        vertical-align: middle;\n",
              "    }\n",
              "\n",
              "    .dataframe tbody tr th {\n",
              "        vertical-align: top;\n",
              "    }\n",
              "\n",
              "    .dataframe thead th {\n",
              "        text-align: right;\n",
              "    }\n",
              "</style>\n",
              "<table border=\"1\" class=\"dataframe\">\n",
              "  <thead>\n",
              "    <tr style=\"text-align: right;\">\n",
              "      <th></th>\n",
              "      <th>region</th>\n",
              "      <th>region_code</th>\n",
              "      <th>county_name</th>\n",
              "      <th>state_fips</th>\n",
              "      <th>county_fips</th>\n",
              "      <th>fips</th>\n",
              "      <th>period</th>\n",
              "      <th>percent_of_physicians_actively_using_an_ehr_to_e-prescribe_via_the_surescripts_network</th>\n",
              "    </tr>\n",
              "  </thead>\n",
              "  <tbody>\n",
              "    <tr>\n",
              "      <th>0</th>\n",
              "      <td>Alabama</td>\n",
              "      <td>AL</td>\n",
              "      <td>Autauga</td>\n",
              "      <td>1.0</td>\n",
              "      <td>1.0</td>\n",
              "      <td>1001.0</td>\n",
              "      <td>2014-04-01</td>\n",
              "      <td>0.33</td>\n",
              "    </tr>\n",
              "    <tr>\n",
              "      <th>1</th>\n",
              "      <td>Alabama</td>\n",
              "      <td>AL</td>\n",
              "      <td>Baldwin</td>\n",
              "      <td>1.0</td>\n",
              "      <td>3.0</td>\n",
              "      <td>1003.0</td>\n",
              "      <td>2014-04-01</td>\n",
              "      <td>0.68</td>\n",
              "    </tr>\n",
              "    <tr>\n",
              "      <th>2</th>\n",
              "      <td>Alabama</td>\n",
              "      <td>AL</td>\n",
              "      <td>Barbour</td>\n",
              "      <td>1.0</td>\n",
              "      <td>5.0</td>\n",
              "      <td>1005.0</td>\n",
              "      <td>2014-04-01</td>\n",
              "      <td>0.52</td>\n",
              "    </tr>\n",
              "    <tr>\n",
              "      <th>3</th>\n",
              "      <td>Alabama</td>\n",
              "      <td>AL</td>\n",
              "      <td>Bibb</td>\n",
              "      <td>1.0</td>\n",
              "      <td>7.0</td>\n",
              "      <td>1007.0</td>\n",
              "      <td>2014-04-01</td>\n",
              "      <td>1.00</td>\n",
              "    </tr>\n",
              "    <tr>\n",
              "      <th>4</th>\n",
              "      <td>Alabama</td>\n",
              "      <td>AL</td>\n",
              "      <td>Blount</td>\n",
              "      <td>1.0</td>\n",
              "      <td>9.0</td>\n",
              "      <td>1009.0</td>\n",
              "      <td>2014-04-01</td>\n",
              "      <td>0.21</td>\n",
              "    </tr>\n",
              "  </tbody>\n",
              "</table>\n",
              "</div>\n",
              "      <button class=\"colab-df-convert\" onclick=\"convertToInteractive('df-3c416de1-034a-4f0e-96eb-38ddc49f49a0')\"\n",
              "              title=\"Convert this dataframe to an interactive table.\"\n",
              "              style=\"display:none;\">\n",
              "        \n",
              "  <svg xmlns=\"http://www.w3.org/2000/svg\" height=\"24px\"viewBox=\"0 0 24 24\"\n",
              "       width=\"24px\">\n",
              "    <path d=\"M0 0h24v24H0V0z\" fill=\"none\"/>\n",
              "    <path d=\"M18.56 5.44l.94 2.06.94-2.06 2.06-.94-2.06-.94-.94-2.06-.94 2.06-2.06.94zm-11 1L8.5 8.5l.94-2.06 2.06-.94-2.06-.94L8.5 2.5l-.94 2.06-2.06.94zm10 10l.94 2.06.94-2.06 2.06-.94-2.06-.94-.94-2.06-.94 2.06-2.06.94z\"/><path d=\"M17.41 7.96l-1.37-1.37c-.4-.4-.92-.59-1.43-.59-.52 0-1.04.2-1.43.59L10.3 9.45l-7.72 7.72c-.78.78-.78 2.05 0 2.83L4 21.41c.39.39.9.59 1.41.59.51 0 1.02-.2 1.41-.59l7.78-7.78 2.81-2.81c.8-.78.8-2.07 0-2.86zM5.41 20L4 18.59l7.72-7.72 1.47 1.35L5.41 20z\"/>\n",
              "  </svg>\n",
              "      </button>\n",
              "      \n",
              "  <style>\n",
              "    .colab-df-container {\n",
              "      display:flex;\n",
              "      flex-wrap:wrap;\n",
              "      gap: 12px;\n",
              "    }\n",
              "\n",
              "    .colab-df-convert {\n",
              "      background-color: #E8F0FE;\n",
              "      border: none;\n",
              "      border-radius: 50%;\n",
              "      cursor: pointer;\n",
              "      display: none;\n",
              "      fill: #1967D2;\n",
              "      height: 32px;\n",
              "      padding: 0 0 0 0;\n",
              "      width: 32px;\n",
              "    }\n",
              "\n",
              "    .colab-df-convert:hover {\n",
              "      background-color: #E2EBFA;\n",
              "      box-shadow: 0px 1px 2px rgba(60, 64, 67, 0.3), 0px 1px 3px 1px rgba(60, 64, 67, 0.15);\n",
              "      fill: #174EA6;\n",
              "    }\n",
              "\n",
              "    [theme=dark] .colab-df-convert {\n",
              "      background-color: #3B4455;\n",
              "      fill: #D2E3FC;\n",
              "    }\n",
              "\n",
              "    [theme=dark] .colab-df-convert:hover {\n",
              "      background-color: #434B5C;\n",
              "      box-shadow: 0px 1px 3px 1px rgba(0, 0, 0, 0.15);\n",
              "      filter: drop-shadow(0px 1px 2px rgba(0, 0, 0, 0.3));\n",
              "      fill: #FFFFFF;\n",
              "    }\n",
              "  </style>\n",
              "\n",
              "      <script>\n",
              "        const buttonEl =\n",
              "          document.querySelector('#df-3c416de1-034a-4f0e-96eb-38ddc49f49a0 button.colab-df-convert');\n",
              "        buttonEl.style.display =\n",
              "          google.colab.kernel.accessAllowed ? 'block' : 'none';\n",
              "\n",
              "        async function convertToInteractive(key) {\n",
              "          const element = document.querySelector('#df-3c416de1-034a-4f0e-96eb-38ddc49f49a0');\n",
              "          const dataTable =\n",
              "            await google.colab.kernel.invokeFunction('convertToInteractive',\n",
              "                                                     [key], {});\n",
              "          if (!dataTable) return;\n",
              "\n",
              "          const docLinkHtml = 'Like what you see? Visit the ' +\n",
              "            '<a target=\"_blank\" href=https://colab.research.google.com/notebooks/data_table.ipynb>data table notebook</a>'\n",
              "            + ' to learn more about interactive tables.';\n",
              "          element.innerHTML = '';\n",
              "          dataTable['output_type'] = 'display_data';\n",
              "          await google.colab.output.renderOutput(dataTable, element);\n",
              "          const docLink = document.createElement('div');\n",
              "          docLink.innerHTML = docLinkHtml;\n",
              "          element.appendChild(docLink);\n",
              "        }\n",
              "      </script>\n",
              "    </div>\n",
              "  </div>\n",
              "  "
            ]
          },
          "metadata": {},
          "execution_count": 8
        }
      ]
    },
    {
      "cell_type": "code",
      "source": [
        "from sqlite3 import connect\n",
        "coverage = aca_coverage\n",
        "conn = connect(':memory:')\n",
        "# create tables\n",
        "surescripts.to_sql(\"surescripts\", conn)\n"
      ],
      "metadata": {
        "colab": {
          "base_uri": "https://localhost:8080/"
        },
        "id": "F2-QZ-EOMLDN",
        "outputId": "ff88509d-281d-4769-c1b6-ba31e9c1d37a"
      },
      "execution_count": 9,
      "outputs": [
        {
          "output_type": "execute_result",
          "data": {
            "text/plain": [
              "2938"
            ]
          },
          "metadata": {},
          "execution_count": 9
        }
      ]
    },
    {
      "cell_type": "markdown",
      "source": [
        "https://www.datacamp.com/tutorial/tutorial-how-to-execute-sql-queries-in-r-and-python"
      ],
      "metadata": {
        "id": "t53dajcpT2KC"
      }
    },
    {
      "cell_type": "code",
      "source": [
        "# An example of using sql syntax to read a table:\n",
        "\n",
        "pd.read_sql(\"select * from surescripts\", conn)"
      ],
      "metadata": {
        "colab": {
          "base_uri": "https://localhost:8080/",
          "height": 424
        },
        "id": "h29KaBIxwp40",
        "outputId": "52821e85-ad95-49a4-bd71-3301dc92813f"
      },
      "execution_count": 10,
      "outputs": [
        {
          "output_type": "execute_result",
          "data": {
            "text/plain": [
              "      index   region region_code county_name  state_fips  county_fips  \\\n",
              "0         0  Alabama          AL     Autauga         1.0          1.0   \n",
              "1         1  Alabama          AL     Baldwin         1.0          3.0   \n",
              "2         2  Alabama          AL     Barbour         1.0          5.0   \n",
              "3         3  Alabama          AL        Bibb         1.0          7.0   \n",
              "4         4  Alabama          AL      Blount         1.0          9.0   \n",
              "...     ...      ...         ...         ...         ...          ...   \n",
              "2933   2933  Wyoming          WY       Teton        56.0         39.0   \n",
              "2934   2934  Wyoming          WY       Uinta        56.0         41.0   \n",
              "2935   2935  Wyoming          WY    Washakie        56.0         43.0   \n",
              "2936   2936  Wyoming          WY      Weston        56.0         45.0   \n",
              "2937   2937                 None        None         NaN          NaN   \n",
              "\n",
              "         fips               period  \\\n",
              "0      1001.0  2014-04-01 00:00:00   \n",
              "1      1003.0  2014-04-01 00:00:00   \n",
              "2      1005.0  2014-04-01 00:00:00   \n",
              "3      1007.0  2014-04-01 00:00:00   \n",
              "4      1009.0  2014-04-01 00:00:00   \n",
              "...       ...                  ...   \n",
              "2933  56039.0  2014-04-01 00:00:00   \n",
              "2934  56041.0  2014-04-01 00:00:00   \n",
              "2935  56043.0  2014-04-01 00:00:00   \n",
              "2936  56045.0  2014-04-01 00:00:00   \n",
              "2937      NaN                 None   \n",
              "\n",
              "      percent_of_physicians_actively_using_an_ehr_to_e-prescribe_via_the_surescripts_network  \n",
              "0                                                  0.33                                       \n",
              "1                                                  0.68                                       \n",
              "2                                                  0.52                                       \n",
              "3                                                  1.00                                       \n",
              "4                                                  0.21                                       \n",
              "...                                                 ...                                       \n",
              "2933                                               0.46                                       \n",
              "2934                                               0.36                                       \n",
              "2935                                               0.89                                       \n",
              "2936                                               1.00                                       \n",
              "2937                                                NaN                                       \n",
              "\n",
              "[2938 rows x 9 columns]"
            ],
            "text/html": [
              "\n",
              "  <div id=\"df-d19d63a3-8dbe-4b4e-a390-8a0112a4ce92\">\n",
              "    <div class=\"colab-df-container\">\n",
              "      <div>\n",
              "<style scoped>\n",
              "    .dataframe tbody tr th:only-of-type {\n",
              "        vertical-align: middle;\n",
              "    }\n",
              "\n",
              "    .dataframe tbody tr th {\n",
              "        vertical-align: top;\n",
              "    }\n",
              "\n",
              "    .dataframe thead th {\n",
              "        text-align: right;\n",
              "    }\n",
              "</style>\n",
              "<table border=\"1\" class=\"dataframe\">\n",
              "  <thead>\n",
              "    <tr style=\"text-align: right;\">\n",
              "      <th></th>\n",
              "      <th>index</th>\n",
              "      <th>region</th>\n",
              "      <th>region_code</th>\n",
              "      <th>county_name</th>\n",
              "      <th>state_fips</th>\n",
              "      <th>county_fips</th>\n",
              "      <th>fips</th>\n",
              "      <th>period</th>\n",
              "      <th>percent_of_physicians_actively_using_an_ehr_to_e-prescribe_via_the_surescripts_network</th>\n",
              "    </tr>\n",
              "  </thead>\n",
              "  <tbody>\n",
              "    <tr>\n",
              "      <th>0</th>\n",
              "      <td>0</td>\n",
              "      <td>Alabama</td>\n",
              "      <td>AL</td>\n",
              "      <td>Autauga</td>\n",
              "      <td>1.0</td>\n",
              "      <td>1.0</td>\n",
              "      <td>1001.0</td>\n",
              "      <td>2014-04-01 00:00:00</td>\n",
              "      <td>0.33</td>\n",
              "    </tr>\n",
              "    <tr>\n",
              "      <th>1</th>\n",
              "      <td>1</td>\n",
              "      <td>Alabama</td>\n",
              "      <td>AL</td>\n",
              "      <td>Baldwin</td>\n",
              "      <td>1.0</td>\n",
              "      <td>3.0</td>\n",
              "      <td>1003.0</td>\n",
              "      <td>2014-04-01 00:00:00</td>\n",
              "      <td>0.68</td>\n",
              "    </tr>\n",
              "    <tr>\n",
              "      <th>2</th>\n",
              "      <td>2</td>\n",
              "      <td>Alabama</td>\n",
              "      <td>AL</td>\n",
              "      <td>Barbour</td>\n",
              "      <td>1.0</td>\n",
              "      <td>5.0</td>\n",
              "      <td>1005.0</td>\n",
              "      <td>2014-04-01 00:00:00</td>\n",
              "      <td>0.52</td>\n",
              "    </tr>\n",
              "    <tr>\n",
              "      <th>3</th>\n",
              "      <td>3</td>\n",
              "      <td>Alabama</td>\n",
              "      <td>AL</td>\n",
              "      <td>Bibb</td>\n",
              "      <td>1.0</td>\n",
              "      <td>7.0</td>\n",
              "      <td>1007.0</td>\n",
              "      <td>2014-04-01 00:00:00</td>\n",
              "      <td>1.00</td>\n",
              "    </tr>\n",
              "    <tr>\n",
              "      <th>4</th>\n",
              "      <td>4</td>\n",
              "      <td>Alabama</td>\n",
              "      <td>AL</td>\n",
              "      <td>Blount</td>\n",
              "      <td>1.0</td>\n",
              "      <td>9.0</td>\n",
              "      <td>1009.0</td>\n",
              "      <td>2014-04-01 00:00:00</td>\n",
              "      <td>0.21</td>\n",
              "    </tr>\n",
              "    <tr>\n",
              "      <th>...</th>\n",
              "      <td>...</td>\n",
              "      <td>...</td>\n",
              "      <td>...</td>\n",
              "      <td>...</td>\n",
              "      <td>...</td>\n",
              "      <td>...</td>\n",
              "      <td>...</td>\n",
              "      <td>...</td>\n",
              "      <td>...</td>\n",
              "    </tr>\n",
              "    <tr>\n",
              "      <th>2933</th>\n",
              "      <td>2933</td>\n",
              "      <td>Wyoming</td>\n",
              "      <td>WY</td>\n",
              "      <td>Teton</td>\n",
              "      <td>56.0</td>\n",
              "      <td>39.0</td>\n",
              "      <td>56039.0</td>\n",
              "      <td>2014-04-01 00:00:00</td>\n",
              "      <td>0.46</td>\n",
              "    </tr>\n",
              "    <tr>\n",
              "      <th>2934</th>\n",
              "      <td>2934</td>\n",
              "      <td>Wyoming</td>\n",
              "      <td>WY</td>\n",
              "      <td>Uinta</td>\n",
              "      <td>56.0</td>\n",
              "      <td>41.0</td>\n",
              "      <td>56041.0</td>\n",
              "      <td>2014-04-01 00:00:00</td>\n",
              "      <td>0.36</td>\n",
              "    </tr>\n",
              "    <tr>\n",
              "      <th>2935</th>\n",
              "      <td>2935</td>\n",
              "      <td>Wyoming</td>\n",
              "      <td>WY</td>\n",
              "      <td>Washakie</td>\n",
              "      <td>56.0</td>\n",
              "      <td>43.0</td>\n",
              "      <td>56043.0</td>\n",
              "      <td>2014-04-01 00:00:00</td>\n",
              "      <td>0.89</td>\n",
              "    </tr>\n",
              "    <tr>\n",
              "      <th>2936</th>\n",
              "      <td>2936</td>\n",
              "      <td>Wyoming</td>\n",
              "      <td>WY</td>\n",
              "      <td>Weston</td>\n",
              "      <td>56.0</td>\n",
              "      <td>45.0</td>\n",
              "      <td>56045.0</td>\n",
              "      <td>2014-04-01 00:00:00</td>\n",
              "      <td>1.00</td>\n",
              "    </tr>\n",
              "    <tr>\n",
              "      <th>2937</th>\n",
              "      <td>2937</td>\n",
              "      <td></td>\n",
              "      <td>None</td>\n",
              "      <td>None</td>\n",
              "      <td>NaN</td>\n",
              "      <td>NaN</td>\n",
              "      <td>NaN</td>\n",
              "      <td>None</td>\n",
              "      <td>NaN</td>\n",
              "    </tr>\n",
              "  </tbody>\n",
              "</table>\n",
              "<p>2938 rows × 9 columns</p>\n",
              "</div>\n",
              "      <button class=\"colab-df-convert\" onclick=\"convertToInteractive('df-d19d63a3-8dbe-4b4e-a390-8a0112a4ce92')\"\n",
              "              title=\"Convert this dataframe to an interactive table.\"\n",
              "              style=\"display:none;\">\n",
              "        \n",
              "  <svg xmlns=\"http://www.w3.org/2000/svg\" height=\"24px\"viewBox=\"0 0 24 24\"\n",
              "       width=\"24px\">\n",
              "    <path d=\"M0 0h24v24H0V0z\" fill=\"none\"/>\n",
              "    <path d=\"M18.56 5.44l.94 2.06.94-2.06 2.06-.94-2.06-.94-.94-2.06-.94 2.06-2.06.94zm-11 1L8.5 8.5l.94-2.06 2.06-.94-2.06-.94L8.5 2.5l-.94 2.06-2.06.94zm10 10l.94 2.06.94-2.06 2.06-.94-2.06-.94-.94-2.06-.94 2.06-2.06.94z\"/><path d=\"M17.41 7.96l-1.37-1.37c-.4-.4-.92-.59-1.43-.59-.52 0-1.04.2-1.43.59L10.3 9.45l-7.72 7.72c-.78.78-.78 2.05 0 2.83L4 21.41c.39.39.9.59 1.41.59.51 0 1.02-.2 1.41-.59l7.78-7.78 2.81-2.81c.8-.78.8-2.07 0-2.86zM5.41 20L4 18.59l7.72-7.72 1.47 1.35L5.41 20z\"/>\n",
              "  </svg>\n",
              "      </button>\n",
              "      \n",
              "  <style>\n",
              "    .colab-df-container {\n",
              "      display:flex;\n",
              "      flex-wrap:wrap;\n",
              "      gap: 12px;\n",
              "    }\n",
              "\n",
              "    .colab-df-convert {\n",
              "      background-color: #E8F0FE;\n",
              "      border: none;\n",
              "      border-radius: 50%;\n",
              "      cursor: pointer;\n",
              "      display: none;\n",
              "      fill: #1967D2;\n",
              "      height: 32px;\n",
              "      padding: 0 0 0 0;\n",
              "      width: 32px;\n",
              "    }\n",
              "\n",
              "    .colab-df-convert:hover {\n",
              "      background-color: #E2EBFA;\n",
              "      box-shadow: 0px 1px 2px rgba(60, 64, 67, 0.3), 0px 1px 3px 1px rgba(60, 64, 67, 0.15);\n",
              "      fill: #174EA6;\n",
              "    }\n",
              "\n",
              "    [theme=dark] .colab-df-convert {\n",
              "      background-color: #3B4455;\n",
              "      fill: #D2E3FC;\n",
              "    }\n",
              "\n",
              "    [theme=dark] .colab-df-convert:hover {\n",
              "      background-color: #434B5C;\n",
              "      box-shadow: 0px 1px 3px 1px rgba(0, 0, 0, 0.15);\n",
              "      filter: drop-shadow(0px 1px 2px rgba(0, 0, 0, 0.3));\n",
              "      fill: #FFFFFF;\n",
              "    }\n",
              "  </style>\n",
              "\n",
              "      <script>\n",
              "        const buttonEl =\n",
              "          document.querySelector('#df-d19d63a3-8dbe-4b4e-a390-8a0112a4ce92 button.colab-df-convert');\n",
              "        buttonEl.style.display =\n",
              "          google.colab.kernel.accessAllowed ? 'block' : 'none';\n",
              "\n",
              "        async function convertToInteractive(key) {\n",
              "          const element = document.querySelector('#df-d19d63a3-8dbe-4b4e-a390-8a0112a4ce92');\n",
              "          const dataTable =\n",
              "            await google.colab.kernel.invokeFunction('convertToInteractive',\n",
              "                                                     [key], {});\n",
              "          if (!dataTable) return;\n",
              "\n",
              "          const docLinkHtml = 'Like what you see? Visit the ' +\n",
              "            '<a target=\"_blank\" href=https://colab.research.google.com/notebooks/data_table.ipynb>data table notebook</a>'\n",
              "            + ' to learn more about interactive tables.';\n",
              "          element.innerHTML = '';\n",
              "          dataTable['output_type'] = 'display_data';\n",
              "          await google.colab.output.renderOutput(dataTable, element);\n",
              "          const docLink = document.createElement('div');\n",
              "          docLink.innerHTML = docLinkHtml;\n",
              "          element.appendChild(docLink);\n",
              "        }\n",
              "      </script>\n",
              "    </div>\n",
              "  </div>\n",
              "  "
            ]
          },
          "metadata": {},
          "execution_count": 10
        }
      ]
    },
    {
      "cell_type": "markdown",
      "source": [
        "1. The most basic command is **select**. Let's 'limit' ourselves to look at the first five rows of the data for all columns."
      ],
      "metadata": {
        "id": "1pU0ohI_xNJb"
      }
    },
    {
      "cell_type": "code",
      "source": [
        "# question 1 code below\n",
        "pd.read_sql(\"select * from surescripts limit 5\", conn)\n"
      ],
      "metadata": {
        "id": "5HHAnsxJytpM",
        "colab": {
          "base_uri": "https://localhost:8080/",
          "height": 206
        },
        "outputId": "4d6836a6-84f7-47fd-eb27-0addf82b15e3"
      },
      "execution_count": 11,
      "outputs": [
        {
          "output_type": "execute_result",
          "data": {
            "text/plain": [
              "   index   region region_code county_name  state_fips  county_fips    fips  \\\n",
              "0      0  Alabama          AL     Autauga         1.0          1.0  1001.0   \n",
              "1      1  Alabama          AL     Baldwin         1.0          3.0  1003.0   \n",
              "2      2  Alabama          AL     Barbour         1.0          5.0  1005.0   \n",
              "3      3  Alabama          AL        Bibb         1.0          7.0  1007.0   \n",
              "4      4  Alabama          AL      Blount         1.0          9.0  1009.0   \n",
              "\n",
              "                period  \\\n",
              "0  2014-04-01 00:00:00   \n",
              "1  2014-04-01 00:00:00   \n",
              "2  2014-04-01 00:00:00   \n",
              "3  2014-04-01 00:00:00   \n",
              "4  2014-04-01 00:00:00   \n",
              "\n",
              "   percent_of_physicians_actively_using_an_ehr_to_e-prescribe_via_the_surescripts_network  \n",
              "0                                               0.33                                       \n",
              "1                                               0.68                                       \n",
              "2                                               0.52                                       \n",
              "3                                               1.00                                       \n",
              "4                                               0.21                                       "
            ],
            "text/html": [
              "\n",
              "  <div id=\"df-3d2a4c17-4b97-41d2-9bf0-1f0770f088e0\">\n",
              "    <div class=\"colab-df-container\">\n",
              "      <div>\n",
              "<style scoped>\n",
              "    .dataframe tbody tr th:only-of-type {\n",
              "        vertical-align: middle;\n",
              "    }\n",
              "\n",
              "    .dataframe tbody tr th {\n",
              "        vertical-align: top;\n",
              "    }\n",
              "\n",
              "    .dataframe thead th {\n",
              "        text-align: right;\n",
              "    }\n",
              "</style>\n",
              "<table border=\"1\" class=\"dataframe\">\n",
              "  <thead>\n",
              "    <tr style=\"text-align: right;\">\n",
              "      <th></th>\n",
              "      <th>index</th>\n",
              "      <th>region</th>\n",
              "      <th>region_code</th>\n",
              "      <th>county_name</th>\n",
              "      <th>state_fips</th>\n",
              "      <th>county_fips</th>\n",
              "      <th>fips</th>\n",
              "      <th>period</th>\n",
              "      <th>percent_of_physicians_actively_using_an_ehr_to_e-prescribe_via_the_surescripts_network</th>\n",
              "    </tr>\n",
              "  </thead>\n",
              "  <tbody>\n",
              "    <tr>\n",
              "      <th>0</th>\n",
              "      <td>0</td>\n",
              "      <td>Alabama</td>\n",
              "      <td>AL</td>\n",
              "      <td>Autauga</td>\n",
              "      <td>1.0</td>\n",
              "      <td>1.0</td>\n",
              "      <td>1001.0</td>\n",
              "      <td>2014-04-01 00:00:00</td>\n",
              "      <td>0.33</td>\n",
              "    </tr>\n",
              "    <tr>\n",
              "      <th>1</th>\n",
              "      <td>1</td>\n",
              "      <td>Alabama</td>\n",
              "      <td>AL</td>\n",
              "      <td>Baldwin</td>\n",
              "      <td>1.0</td>\n",
              "      <td>3.0</td>\n",
              "      <td>1003.0</td>\n",
              "      <td>2014-04-01 00:00:00</td>\n",
              "      <td>0.68</td>\n",
              "    </tr>\n",
              "    <tr>\n",
              "      <th>2</th>\n",
              "      <td>2</td>\n",
              "      <td>Alabama</td>\n",
              "      <td>AL</td>\n",
              "      <td>Barbour</td>\n",
              "      <td>1.0</td>\n",
              "      <td>5.0</td>\n",
              "      <td>1005.0</td>\n",
              "      <td>2014-04-01 00:00:00</td>\n",
              "      <td>0.52</td>\n",
              "    </tr>\n",
              "    <tr>\n",
              "      <th>3</th>\n",
              "      <td>3</td>\n",
              "      <td>Alabama</td>\n",
              "      <td>AL</td>\n",
              "      <td>Bibb</td>\n",
              "      <td>1.0</td>\n",
              "      <td>7.0</td>\n",
              "      <td>1007.0</td>\n",
              "      <td>2014-04-01 00:00:00</td>\n",
              "      <td>1.00</td>\n",
              "    </tr>\n",
              "    <tr>\n",
              "      <th>4</th>\n",
              "      <td>4</td>\n",
              "      <td>Alabama</td>\n",
              "      <td>AL</td>\n",
              "      <td>Blount</td>\n",
              "      <td>1.0</td>\n",
              "      <td>9.0</td>\n",
              "      <td>1009.0</td>\n",
              "      <td>2014-04-01 00:00:00</td>\n",
              "      <td>0.21</td>\n",
              "    </tr>\n",
              "  </tbody>\n",
              "</table>\n",
              "</div>\n",
              "      <button class=\"colab-df-convert\" onclick=\"convertToInteractive('df-3d2a4c17-4b97-41d2-9bf0-1f0770f088e0')\"\n",
              "              title=\"Convert this dataframe to an interactive table.\"\n",
              "              style=\"display:none;\">\n",
              "        \n",
              "  <svg xmlns=\"http://www.w3.org/2000/svg\" height=\"24px\"viewBox=\"0 0 24 24\"\n",
              "       width=\"24px\">\n",
              "    <path d=\"M0 0h24v24H0V0z\" fill=\"none\"/>\n",
              "    <path d=\"M18.56 5.44l.94 2.06.94-2.06 2.06-.94-2.06-.94-.94-2.06-.94 2.06-2.06.94zm-11 1L8.5 8.5l.94-2.06 2.06-.94-2.06-.94L8.5 2.5l-.94 2.06-2.06.94zm10 10l.94 2.06.94-2.06 2.06-.94-2.06-.94-.94-2.06-.94 2.06-2.06.94z\"/><path d=\"M17.41 7.96l-1.37-1.37c-.4-.4-.92-.59-1.43-.59-.52 0-1.04.2-1.43.59L10.3 9.45l-7.72 7.72c-.78.78-.78 2.05 0 2.83L4 21.41c.39.39.9.59 1.41.59.51 0 1.02-.2 1.41-.59l7.78-7.78 2.81-2.81c.8-.78.8-2.07 0-2.86zM5.41 20L4 18.59l7.72-7.72 1.47 1.35L5.41 20z\"/>\n",
              "  </svg>\n",
              "      </button>\n",
              "      \n",
              "  <style>\n",
              "    .colab-df-container {\n",
              "      display:flex;\n",
              "      flex-wrap:wrap;\n",
              "      gap: 12px;\n",
              "    }\n",
              "\n",
              "    .colab-df-convert {\n",
              "      background-color: #E8F0FE;\n",
              "      border: none;\n",
              "      border-radius: 50%;\n",
              "      cursor: pointer;\n",
              "      display: none;\n",
              "      fill: #1967D2;\n",
              "      height: 32px;\n",
              "      padding: 0 0 0 0;\n",
              "      width: 32px;\n",
              "    }\n",
              "\n",
              "    .colab-df-convert:hover {\n",
              "      background-color: #E2EBFA;\n",
              "      box-shadow: 0px 1px 2px rgba(60, 64, 67, 0.3), 0px 1px 3px 1px rgba(60, 64, 67, 0.15);\n",
              "      fill: #174EA6;\n",
              "    }\n",
              "\n",
              "    [theme=dark] .colab-df-convert {\n",
              "      background-color: #3B4455;\n",
              "      fill: #D2E3FC;\n",
              "    }\n",
              "\n",
              "    [theme=dark] .colab-df-convert:hover {\n",
              "      background-color: #434B5C;\n",
              "      box-shadow: 0px 1px 3px 1px rgba(0, 0, 0, 0.15);\n",
              "      filter: drop-shadow(0px 1px 2px rgba(0, 0, 0, 0.3));\n",
              "      fill: #FFFFFF;\n",
              "    }\n",
              "  </style>\n",
              "\n",
              "      <script>\n",
              "        const buttonEl =\n",
              "          document.querySelector('#df-3d2a4c17-4b97-41d2-9bf0-1f0770f088e0 button.colab-df-convert');\n",
              "        buttonEl.style.display =\n",
              "          google.colab.kernel.accessAllowed ? 'block' : 'none';\n",
              "\n",
              "        async function convertToInteractive(key) {\n",
              "          const element = document.querySelector('#df-3d2a4c17-4b97-41d2-9bf0-1f0770f088e0');\n",
              "          const dataTable =\n",
              "            await google.colab.kernel.invokeFunction('convertToInteractive',\n",
              "                                                     [key], {});\n",
              "          if (!dataTable) return;\n",
              "\n",
              "          const docLinkHtml = 'Like what you see? Visit the ' +\n",
              "            '<a target=\"_blank\" href=https://colab.research.google.com/notebooks/data_table.ipynb>data table notebook</a>'\n",
              "            + ' to learn more about interactive tables.';\n",
              "          element.innerHTML = '';\n",
              "          dataTable['output_type'] = 'display_data';\n",
              "          await google.colab.output.renderOutput(dataTable, element);\n",
              "          const docLink = document.createElement('div');\n",
              "          docLink.innerHTML = docLinkHtml;\n",
              "          element.appendChild(docLink);\n",
              "        }\n",
              "      </script>\n",
              "    </div>\n",
              "  </div>\n",
              "  "
            ]
          },
          "metadata": {},
          "execution_count": 11
        }
      ]
    },
    {
      "cell_type": "markdown",
      "source": [
        "2. Let's view all rows for Texas"
      ],
      "metadata": {
        "id": "mXdCVquTzHcd"
      }
    },
    {
      "cell_type": "code",
      "source": [
        "# question 2 code here\n",
        "pd.read_sql(\"select * from surescripts WHERE region = 'Texas'\", conn)"
      ],
      "metadata": {
        "id": "zhwWPKSd0BdP",
        "colab": {
          "base_uri": "https://localhost:8080/",
          "height": 424
        },
        "outputId": "147cd6fb-b663-464c-b358-69352e4a619d"
      },
      "execution_count": 12,
      "outputs": [
        {
          "output_type": "execute_result",
          "data": {
            "text/plain": [
              "     index region region_code county_name  state_fips  county_fips     fips  \\\n",
              "0     2373  Texas          TX    Anderson        48.0          1.0  48001.0   \n",
              "1     2374  Texas          TX     Andrews        48.0          3.0  48003.0   \n",
              "2     2375  Texas          TX    Angelina        48.0          5.0  48005.0   \n",
              "3     2376  Texas          TX     Aransas        48.0          7.0  48007.0   \n",
              "4     2377  Texas          TX   Armstrong        48.0         11.0  48011.0   \n",
              "..     ...    ...         ...         ...         ...          ...      ...   \n",
              "212   2585  Texas          TX        Wood        48.0        499.0  48499.0   \n",
              "213   2586  Texas          TX      Yoakum        48.0        501.0  48501.0   \n",
              "214   2587  Texas          TX       Young        48.0        503.0  48503.0   \n",
              "215   2588  Texas          TX      Zapata        48.0        505.0  48505.0   \n",
              "216   2589  Texas          TX      Zavala        48.0        507.0  48507.0   \n",
              "\n",
              "                  period  \\\n",
              "0    2014-04-01 00:00:00   \n",
              "1    2014-04-01 00:00:00   \n",
              "2    2014-04-01 00:00:00   \n",
              "3    2014-04-01 00:00:00   \n",
              "4    2014-04-01 00:00:00   \n",
              "..                   ...   \n",
              "212  2014-04-01 00:00:00   \n",
              "213  2014-04-01 00:00:00   \n",
              "214  2014-04-01 00:00:00   \n",
              "215  2014-04-01 00:00:00   \n",
              "216  2014-04-01 00:00:00   \n",
              "\n",
              "     percent_of_physicians_actively_using_an_ehr_to_e-prescribe_via_the_surescripts_network  \n",
              "0                                                 0.73                                       \n",
              "1                                                 0.15                                       \n",
              "2                                                 0.77                                       \n",
              "3                                                 0.64                                       \n",
              "4                                                 1.00                                       \n",
              "..                                                 ...                                       \n",
              "212                                               0.83                                       \n",
              "213                                               0.42                                       \n",
              "214                                               0.41                                       \n",
              "215                                               1.00                                       \n",
              "216                                               0.00                                       \n",
              "\n",
              "[217 rows x 9 columns]"
            ],
            "text/html": [
              "\n",
              "  <div id=\"df-e545da2c-20c2-4a49-b3b2-d1bb1de5ccf3\">\n",
              "    <div class=\"colab-df-container\">\n",
              "      <div>\n",
              "<style scoped>\n",
              "    .dataframe tbody tr th:only-of-type {\n",
              "        vertical-align: middle;\n",
              "    }\n",
              "\n",
              "    .dataframe tbody tr th {\n",
              "        vertical-align: top;\n",
              "    }\n",
              "\n",
              "    .dataframe thead th {\n",
              "        text-align: right;\n",
              "    }\n",
              "</style>\n",
              "<table border=\"1\" class=\"dataframe\">\n",
              "  <thead>\n",
              "    <tr style=\"text-align: right;\">\n",
              "      <th></th>\n",
              "      <th>index</th>\n",
              "      <th>region</th>\n",
              "      <th>region_code</th>\n",
              "      <th>county_name</th>\n",
              "      <th>state_fips</th>\n",
              "      <th>county_fips</th>\n",
              "      <th>fips</th>\n",
              "      <th>period</th>\n",
              "      <th>percent_of_physicians_actively_using_an_ehr_to_e-prescribe_via_the_surescripts_network</th>\n",
              "    </tr>\n",
              "  </thead>\n",
              "  <tbody>\n",
              "    <tr>\n",
              "      <th>0</th>\n",
              "      <td>2373</td>\n",
              "      <td>Texas</td>\n",
              "      <td>TX</td>\n",
              "      <td>Anderson</td>\n",
              "      <td>48.0</td>\n",
              "      <td>1.0</td>\n",
              "      <td>48001.0</td>\n",
              "      <td>2014-04-01 00:00:00</td>\n",
              "      <td>0.73</td>\n",
              "    </tr>\n",
              "    <tr>\n",
              "      <th>1</th>\n",
              "      <td>2374</td>\n",
              "      <td>Texas</td>\n",
              "      <td>TX</td>\n",
              "      <td>Andrews</td>\n",
              "      <td>48.0</td>\n",
              "      <td>3.0</td>\n",
              "      <td>48003.0</td>\n",
              "      <td>2014-04-01 00:00:00</td>\n",
              "      <td>0.15</td>\n",
              "    </tr>\n",
              "    <tr>\n",
              "      <th>2</th>\n",
              "      <td>2375</td>\n",
              "      <td>Texas</td>\n",
              "      <td>TX</td>\n",
              "      <td>Angelina</td>\n",
              "      <td>48.0</td>\n",
              "      <td>5.0</td>\n",
              "      <td>48005.0</td>\n",
              "      <td>2014-04-01 00:00:00</td>\n",
              "      <td>0.77</td>\n",
              "    </tr>\n",
              "    <tr>\n",
              "      <th>3</th>\n",
              "      <td>2376</td>\n",
              "      <td>Texas</td>\n",
              "      <td>TX</td>\n",
              "      <td>Aransas</td>\n",
              "      <td>48.0</td>\n",
              "      <td>7.0</td>\n",
              "      <td>48007.0</td>\n",
              "      <td>2014-04-01 00:00:00</td>\n",
              "      <td>0.64</td>\n",
              "    </tr>\n",
              "    <tr>\n",
              "      <th>4</th>\n",
              "      <td>2377</td>\n",
              "      <td>Texas</td>\n",
              "      <td>TX</td>\n",
              "      <td>Armstrong</td>\n",
              "      <td>48.0</td>\n",
              "      <td>11.0</td>\n",
              "      <td>48011.0</td>\n",
              "      <td>2014-04-01 00:00:00</td>\n",
              "      <td>1.00</td>\n",
              "    </tr>\n",
              "    <tr>\n",
              "      <th>...</th>\n",
              "      <td>...</td>\n",
              "      <td>...</td>\n",
              "      <td>...</td>\n",
              "      <td>...</td>\n",
              "      <td>...</td>\n",
              "      <td>...</td>\n",
              "      <td>...</td>\n",
              "      <td>...</td>\n",
              "      <td>...</td>\n",
              "    </tr>\n",
              "    <tr>\n",
              "      <th>212</th>\n",
              "      <td>2585</td>\n",
              "      <td>Texas</td>\n",
              "      <td>TX</td>\n",
              "      <td>Wood</td>\n",
              "      <td>48.0</td>\n",
              "      <td>499.0</td>\n",
              "      <td>48499.0</td>\n",
              "      <td>2014-04-01 00:00:00</td>\n",
              "      <td>0.83</td>\n",
              "    </tr>\n",
              "    <tr>\n",
              "      <th>213</th>\n",
              "      <td>2586</td>\n",
              "      <td>Texas</td>\n",
              "      <td>TX</td>\n",
              "      <td>Yoakum</td>\n",
              "      <td>48.0</td>\n",
              "      <td>501.0</td>\n",
              "      <td>48501.0</td>\n",
              "      <td>2014-04-01 00:00:00</td>\n",
              "      <td>0.42</td>\n",
              "    </tr>\n",
              "    <tr>\n",
              "      <th>214</th>\n",
              "      <td>2587</td>\n",
              "      <td>Texas</td>\n",
              "      <td>TX</td>\n",
              "      <td>Young</td>\n",
              "      <td>48.0</td>\n",
              "      <td>503.0</td>\n",
              "      <td>48503.0</td>\n",
              "      <td>2014-04-01 00:00:00</td>\n",
              "      <td>0.41</td>\n",
              "    </tr>\n",
              "    <tr>\n",
              "      <th>215</th>\n",
              "      <td>2588</td>\n",
              "      <td>Texas</td>\n",
              "      <td>TX</td>\n",
              "      <td>Zapata</td>\n",
              "      <td>48.0</td>\n",
              "      <td>505.0</td>\n",
              "      <td>48505.0</td>\n",
              "      <td>2014-04-01 00:00:00</td>\n",
              "      <td>1.00</td>\n",
              "    </tr>\n",
              "    <tr>\n",
              "      <th>216</th>\n",
              "      <td>2589</td>\n",
              "      <td>Texas</td>\n",
              "      <td>TX</td>\n",
              "      <td>Zavala</td>\n",
              "      <td>48.0</td>\n",
              "      <td>507.0</td>\n",
              "      <td>48507.0</td>\n",
              "      <td>2014-04-01 00:00:00</td>\n",
              "      <td>0.00</td>\n",
              "    </tr>\n",
              "  </tbody>\n",
              "</table>\n",
              "<p>217 rows × 9 columns</p>\n",
              "</div>\n",
              "      <button class=\"colab-df-convert\" onclick=\"convertToInteractive('df-e545da2c-20c2-4a49-b3b2-d1bb1de5ccf3')\"\n",
              "              title=\"Convert this dataframe to an interactive table.\"\n",
              "              style=\"display:none;\">\n",
              "        \n",
              "  <svg xmlns=\"http://www.w3.org/2000/svg\" height=\"24px\"viewBox=\"0 0 24 24\"\n",
              "       width=\"24px\">\n",
              "    <path d=\"M0 0h24v24H0V0z\" fill=\"none\"/>\n",
              "    <path d=\"M18.56 5.44l.94 2.06.94-2.06 2.06-.94-2.06-.94-.94-2.06-.94 2.06-2.06.94zm-11 1L8.5 8.5l.94-2.06 2.06-.94-2.06-.94L8.5 2.5l-.94 2.06-2.06.94zm10 10l.94 2.06.94-2.06 2.06-.94-2.06-.94-.94-2.06-.94 2.06-2.06.94z\"/><path d=\"M17.41 7.96l-1.37-1.37c-.4-.4-.92-.59-1.43-.59-.52 0-1.04.2-1.43.59L10.3 9.45l-7.72 7.72c-.78.78-.78 2.05 0 2.83L4 21.41c.39.39.9.59 1.41.59.51 0 1.02-.2 1.41-.59l7.78-7.78 2.81-2.81c.8-.78.8-2.07 0-2.86zM5.41 20L4 18.59l7.72-7.72 1.47 1.35L5.41 20z\"/>\n",
              "  </svg>\n",
              "      </button>\n",
              "      \n",
              "  <style>\n",
              "    .colab-df-container {\n",
              "      display:flex;\n",
              "      flex-wrap:wrap;\n",
              "      gap: 12px;\n",
              "    }\n",
              "\n",
              "    .colab-df-convert {\n",
              "      background-color: #E8F0FE;\n",
              "      border: none;\n",
              "      border-radius: 50%;\n",
              "      cursor: pointer;\n",
              "      display: none;\n",
              "      fill: #1967D2;\n",
              "      height: 32px;\n",
              "      padding: 0 0 0 0;\n",
              "      width: 32px;\n",
              "    }\n",
              "\n",
              "    .colab-df-convert:hover {\n",
              "      background-color: #E2EBFA;\n",
              "      box-shadow: 0px 1px 2px rgba(60, 64, 67, 0.3), 0px 1px 3px 1px rgba(60, 64, 67, 0.15);\n",
              "      fill: #174EA6;\n",
              "    }\n",
              "\n",
              "    [theme=dark] .colab-df-convert {\n",
              "      background-color: #3B4455;\n",
              "      fill: #D2E3FC;\n",
              "    }\n",
              "\n",
              "    [theme=dark] .colab-df-convert:hover {\n",
              "      background-color: #434B5C;\n",
              "      box-shadow: 0px 1px 3px 1px rgba(0, 0, 0, 0.15);\n",
              "      filter: drop-shadow(0px 1px 2px rgba(0, 0, 0, 0.3));\n",
              "      fill: #FFFFFF;\n",
              "    }\n",
              "  </style>\n",
              "\n",
              "      <script>\n",
              "        const buttonEl =\n",
              "          document.querySelector('#df-e545da2c-20c2-4a49-b3b2-d1bb1de5ccf3 button.colab-df-convert');\n",
              "        buttonEl.style.display =\n",
              "          google.colab.kernel.accessAllowed ? 'block' : 'none';\n",
              "\n",
              "        async function convertToInteractive(key) {\n",
              "          const element = document.querySelector('#df-e545da2c-20c2-4a49-b3b2-d1bb1de5ccf3');\n",
              "          const dataTable =\n",
              "            await google.colab.kernel.invokeFunction('convertToInteractive',\n",
              "                                                     [key], {});\n",
              "          if (!dataTable) return;\n",
              "\n",
              "          const docLinkHtml = 'Like what you see? Visit the ' +\n",
              "            '<a target=\"_blank\" href=https://colab.research.google.com/notebooks/data_table.ipynb>data table notebook</a>'\n",
              "            + ' to learn more about interactive tables.';\n",
              "          element.innerHTML = '';\n",
              "          dataTable['output_type'] = 'display_data';\n",
              "          await google.colab.output.renderOutput(dataTable, element);\n",
              "          const docLink = document.createElement('div');\n",
              "          docLink.innerHTML = docLinkHtml;\n",
              "          element.appendChild(docLink);\n",
              "        }\n",
              "      </script>\n",
              "    </div>\n",
              "  </div>\n",
              "  "
            ]
          },
          "metadata": {},
          "execution_count": 12
        }
      ]
    },
    {
      "cell_type": "code",
      "source": [
        "pd.read_sql(\"select *, count(*) from surescripts where region = 'Kentucky'\", conn)\n"
      ],
      "metadata": {
        "colab": {
          "base_uri": "https://localhost:8080/",
          "height": 81
        },
        "id": "An0a17VuJPUS",
        "outputId": "cb1ee46b-cdd6-4f7b-de90-d3ed5e5e9075"
      },
      "execution_count": 13,
      "outputs": [
        {
          "output_type": "execute_result",
          "data": {
            "text/plain": [
              "   index    region region_code county_name  state_fips  county_fips     fips  \\\n",
              "0    936  Kentucky          KY       Adair        21.0          1.0  21001.0   \n",
              "\n",
              "                period  \\\n",
              "0  2014-04-01 00:00:00   \n",
              "\n",
              "   percent_of_physicians_actively_using_an_ehr_to_e-prescribe_via_the_surescripts_network  \\\n",
              "0                                               0.17                                        \n",
              "\n",
              "   count(*)  \n",
              "0       118  "
            ],
            "text/html": [
              "\n",
              "  <div id=\"df-6d93cb82-755b-4330-885f-80a330966c51\">\n",
              "    <div class=\"colab-df-container\">\n",
              "      <div>\n",
              "<style scoped>\n",
              "    .dataframe tbody tr th:only-of-type {\n",
              "        vertical-align: middle;\n",
              "    }\n",
              "\n",
              "    .dataframe tbody tr th {\n",
              "        vertical-align: top;\n",
              "    }\n",
              "\n",
              "    .dataframe thead th {\n",
              "        text-align: right;\n",
              "    }\n",
              "</style>\n",
              "<table border=\"1\" class=\"dataframe\">\n",
              "  <thead>\n",
              "    <tr style=\"text-align: right;\">\n",
              "      <th></th>\n",
              "      <th>index</th>\n",
              "      <th>region</th>\n",
              "      <th>region_code</th>\n",
              "      <th>county_name</th>\n",
              "      <th>state_fips</th>\n",
              "      <th>county_fips</th>\n",
              "      <th>fips</th>\n",
              "      <th>period</th>\n",
              "      <th>percent_of_physicians_actively_using_an_ehr_to_e-prescribe_via_the_surescripts_network</th>\n",
              "      <th>count(*)</th>\n",
              "    </tr>\n",
              "  </thead>\n",
              "  <tbody>\n",
              "    <tr>\n",
              "      <th>0</th>\n",
              "      <td>936</td>\n",
              "      <td>Kentucky</td>\n",
              "      <td>KY</td>\n",
              "      <td>Adair</td>\n",
              "      <td>21.0</td>\n",
              "      <td>1.0</td>\n",
              "      <td>21001.0</td>\n",
              "      <td>2014-04-01 00:00:00</td>\n",
              "      <td>0.17</td>\n",
              "      <td>118</td>\n",
              "    </tr>\n",
              "  </tbody>\n",
              "</table>\n",
              "</div>\n",
              "      <button class=\"colab-df-convert\" onclick=\"convertToInteractive('df-6d93cb82-755b-4330-885f-80a330966c51')\"\n",
              "              title=\"Convert this dataframe to an interactive table.\"\n",
              "              style=\"display:none;\">\n",
              "        \n",
              "  <svg xmlns=\"http://www.w3.org/2000/svg\" height=\"24px\"viewBox=\"0 0 24 24\"\n",
              "       width=\"24px\">\n",
              "    <path d=\"M0 0h24v24H0V0z\" fill=\"none\"/>\n",
              "    <path d=\"M18.56 5.44l.94 2.06.94-2.06 2.06-.94-2.06-.94-.94-2.06-.94 2.06-2.06.94zm-11 1L8.5 8.5l.94-2.06 2.06-.94-2.06-.94L8.5 2.5l-.94 2.06-2.06.94zm10 10l.94 2.06.94-2.06 2.06-.94-2.06-.94-.94-2.06-.94 2.06-2.06.94z\"/><path d=\"M17.41 7.96l-1.37-1.37c-.4-.4-.92-.59-1.43-.59-.52 0-1.04.2-1.43.59L10.3 9.45l-7.72 7.72c-.78.78-.78 2.05 0 2.83L4 21.41c.39.39.9.59 1.41.59.51 0 1.02-.2 1.41-.59l7.78-7.78 2.81-2.81c.8-.78.8-2.07 0-2.86zM5.41 20L4 18.59l7.72-7.72 1.47 1.35L5.41 20z\"/>\n",
              "  </svg>\n",
              "      </button>\n",
              "      \n",
              "  <style>\n",
              "    .colab-df-container {\n",
              "      display:flex;\n",
              "      flex-wrap:wrap;\n",
              "      gap: 12px;\n",
              "    }\n",
              "\n",
              "    .colab-df-convert {\n",
              "      background-color: #E8F0FE;\n",
              "      border: none;\n",
              "      border-radius: 50%;\n",
              "      cursor: pointer;\n",
              "      display: none;\n",
              "      fill: #1967D2;\n",
              "      height: 32px;\n",
              "      padding: 0 0 0 0;\n",
              "      width: 32px;\n",
              "    }\n",
              "\n",
              "    .colab-df-convert:hover {\n",
              "      background-color: #E2EBFA;\n",
              "      box-shadow: 0px 1px 2px rgba(60, 64, 67, 0.3), 0px 1px 3px 1px rgba(60, 64, 67, 0.15);\n",
              "      fill: #174EA6;\n",
              "    }\n",
              "\n",
              "    [theme=dark] .colab-df-convert {\n",
              "      background-color: #3B4455;\n",
              "      fill: #D2E3FC;\n",
              "    }\n",
              "\n",
              "    [theme=dark] .colab-df-convert:hover {\n",
              "      background-color: #434B5C;\n",
              "      box-shadow: 0px 1px 3px 1px rgba(0, 0, 0, 0.15);\n",
              "      filter: drop-shadow(0px 1px 2px rgba(0, 0, 0, 0.3));\n",
              "      fill: #FFFFFF;\n",
              "    }\n",
              "  </style>\n",
              "\n",
              "      <script>\n",
              "        const buttonEl =\n",
              "          document.querySelector('#df-6d93cb82-755b-4330-885f-80a330966c51 button.colab-df-convert');\n",
              "        buttonEl.style.display =\n",
              "          google.colab.kernel.accessAllowed ? 'block' : 'none';\n",
              "\n",
              "        async function convertToInteractive(key) {\n",
              "          const element = document.querySelector('#df-6d93cb82-755b-4330-885f-80a330966c51');\n",
              "          const dataTable =\n",
              "            await google.colab.kernel.invokeFunction('convertToInteractive',\n",
              "                                                     [key], {});\n",
              "          if (!dataTable) return;\n",
              "\n",
              "          const docLinkHtml = 'Like what you see? Visit the ' +\n",
              "            '<a target=\"_blank\" href=https://colab.research.google.com/notebooks/data_table.ipynb>data table notebook</a>'\n",
              "            + ' to learn more about interactive tables.';\n",
              "          element.innerHTML = '';\n",
              "          dataTable['output_type'] = 'display_data';\n",
              "          await google.colab.output.renderOutput(dataTable, element);\n",
              "          const docLink = document.createElement('div');\n",
              "          docLink.innerHTML = docLinkHtml;\n",
              "          element.appendChild(docLink);\n",
              "        }\n",
              "      </script>\n",
              "    </div>\n",
              "  </div>\n",
              "  "
            ]
          },
          "metadata": {},
          "execution_count": 13
        }
      ]
    },
    {
      "cell_type": "code",
      "source": [
        "# Write your function below this. Give it a short, memorable name.\n",
        "def sql(a_string):\n",
        "    return(pd.read_sql(a_string, conn))"
      ],
      "metadata": {
        "id": "kDnh3w905gR_"
      },
      "execution_count": 14,
      "outputs": []
    },
    {
      "cell_type": "code",
      "source": [
        "# sql(\"select * from surescripts WHERE region = 'Kentucky'\")"
      ],
      "metadata": {
        "id": "pNBrsQyrLHxD"
      },
      "execution_count": 15,
      "outputs": []
    },
    {
      "cell_type": "markdown",
      "source": [
        "6. Let's select the state, county, state fips, county fips, and fips where the county fips equals 51.\n",
        "\n",
        "Use a multi-line string assigned to a query variable then pass that to the function."
      ],
      "metadata": {
        "id": "pP4C6phG6OFd"
      }
    },
    {
      "cell_type": "code",
      "source": [
        "# pd.read_sql(\"\"\"SELECT region, county_name, state_fips, county_fips, fips \n",
        "#   FROM surescripts \n",
        "#   WHERE county_fips = 51\"\"\", conn)"
      ],
      "metadata": {
        "id": "4CWQDhRPHJTA"
      },
      "execution_count": 16,
      "outputs": []
    },
    {
      "cell_type": "markdown",
      "source": [
        "## **We are going to read in another data set to answer a new question. *Is there evidence for a correlation between income level and the rate of uninsured for county level data?***"
      ],
      "metadata": {
        "id": "n2VFRrNru7rh"
      }
    },
    {
      "cell_type": "code",
      "source": [
        "income = pd.read_csv(\"https://raw.githubusercontent.com/dmorton714/data-2-demo/main/kaggle_income.csv\", encoding='latin-1') # this one is encoded in latin-1\n",
        "income.head()"
      ],
      "metadata": {
        "colab": {
          "base_uri": "https://localhost:8080/",
          "height": 206
        },
        "id": "9zoAHtw5vCQ_",
        "outputId": "a20d63cd-52ea-4f61-e943-d924f55a98c4"
      },
      "execution_count": 19,
      "outputs": [
        {
          "output_type": "execute_result",
          "data": {
            "text/plain": [
              "        id  State_Code State_Name State_ab          County            City  \\\n",
              "0  1011000           1    Alabama       AL   Mobile County       Chickasaw   \n",
              "1  1011010           1    Alabama       AL  Barbour County      Louisville   \n",
              "2  1011020           1    Alabama       AL   Shelby County      Columbiana   \n",
              "3  1011030           1    Alabama       AL   Mobile County         Satsuma   \n",
              "4  1011040           1    Alabama       AL   Mobile County  Dauphin Island   \n",
              "\n",
              "             Place  Type Primary  Zip_Code Area_Code     ALand     AWater  \\\n",
              "0   Chickasaw city  City   place     36611       251  10894952     909156   \n",
              "1        Clio city  City   place     36048       334  26070325      23254   \n",
              "2  Columbiana city  City   place     35051       205  44835274     261034   \n",
              "3      Creola city  City   place     36572       251  36878729    2374530   \n",
              "4   Dauphin Island  Town   place     36528       251  16204185  413605152   \n",
              "\n",
              "         Lat        Lon   Mean  Median  Stdev        sum_w  \n",
              "0  30.771450 -88.079697  38773   30506  33101  1638.260513  \n",
              "1  31.708516 -85.611039  37725   19528  43789   258.017685  \n",
              "2  33.191452 -86.615618  54606   31930  57348   926.031000  \n",
              "3  30.874343 -88.009442  63919   52814  47707   378.114619  \n",
              "4  30.250913 -88.171268  77948   67225  54270   282.320328  "
            ],
            "text/html": [
              "\n",
              "  <div id=\"df-53c11541-c263-49b3-a768-caaa6a8863dc\">\n",
              "    <div class=\"colab-df-container\">\n",
              "      <div>\n",
              "<style scoped>\n",
              "    .dataframe tbody tr th:only-of-type {\n",
              "        vertical-align: middle;\n",
              "    }\n",
              "\n",
              "    .dataframe tbody tr th {\n",
              "        vertical-align: top;\n",
              "    }\n",
              "\n",
              "    .dataframe thead th {\n",
              "        text-align: right;\n",
              "    }\n",
              "</style>\n",
              "<table border=\"1\" class=\"dataframe\">\n",
              "  <thead>\n",
              "    <tr style=\"text-align: right;\">\n",
              "      <th></th>\n",
              "      <th>id</th>\n",
              "      <th>State_Code</th>\n",
              "      <th>State_Name</th>\n",
              "      <th>State_ab</th>\n",
              "      <th>County</th>\n",
              "      <th>City</th>\n",
              "      <th>Place</th>\n",
              "      <th>Type</th>\n",
              "      <th>Primary</th>\n",
              "      <th>Zip_Code</th>\n",
              "      <th>Area_Code</th>\n",
              "      <th>ALand</th>\n",
              "      <th>AWater</th>\n",
              "      <th>Lat</th>\n",
              "      <th>Lon</th>\n",
              "      <th>Mean</th>\n",
              "      <th>Median</th>\n",
              "      <th>Stdev</th>\n",
              "      <th>sum_w</th>\n",
              "    </tr>\n",
              "  </thead>\n",
              "  <tbody>\n",
              "    <tr>\n",
              "      <th>0</th>\n",
              "      <td>1011000</td>\n",
              "      <td>1</td>\n",
              "      <td>Alabama</td>\n",
              "      <td>AL</td>\n",
              "      <td>Mobile County</td>\n",
              "      <td>Chickasaw</td>\n",
              "      <td>Chickasaw city</td>\n",
              "      <td>City</td>\n",
              "      <td>place</td>\n",
              "      <td>36611</td>\n",
              "      <td>251</td>\n",
              "      <td>10894952</td>\n",
              "      <td>909156</td>\n",
              "      <td>30.771450</td>\n",
              "      <td>-88.079697</td>\n",
              "      <td>38773</td>\n",
              "      <td>30506</td>\n",
              "      <td>33101</td>\n",
              "      <td>1638.260513</td>\n",
              "    </tr>\n",
              "    <tr>\n",
              "      <th>1</th>\n",
              "      <td>1011010</td>\n",
              "      <td>1</td>\n",
              "      <td>Alabama</td>\n",
              "      <td>AL</td>\n",
              "      <td>Barbour County</td>\n",
              "      <td>Louisville</td>\n",
              "      <td>Clio city</td>\n",
              "      <td>City</td>\n",
              "      <td>place</td>\n",
              "      <td>36048</td>\n",
              "      <td>334</td>\n",
              "      <td>26070325</td>\n",
              "      <td>23254</td>\n",
              "      <td>31.708516</td>\n",
              "      <td>-85.611039</td>\n",
              "      <td>37725</td>\n",
              "      <td>19528</td>\n",
              "      <td>43789</td>\n",
              "      <td>258.017685</td>\n",
              "    </tr>\n",
              "    <tr>\n",
              "      <th>2</th>\n",
              "      <td>1011020</td>\n",
              "      <td>1</td>\n",
              "      <td>Alabama</td>\n",
              "      <td>AL</td>\n",
              "      <td>Shelby County</td>\n",
              "      <td>Columbiana</td>\n",
              "      <td>Columbiana city</td>\n",
              "      <td>City</td>\n",
              "      <td>place</td>\n",
              "      <td>35051</td>\n",
              "      <td>205</td>\n",
              "      <td>44835274</td>\n",
              "      <td>261034</td>\n",
              "      <td>33.191452</td>\n",
              "      <td>-86.615618</td>\n",
              "      <td>54606</td>\n",
              "      <td>31930</td>\n",
              "      <td>57348</td>\n",
              "      <td>926.031000</td>\n",
              "    </tr>\n",
              "    <tr>\n",
              "      <th>3</th>\n",
              "      <td>1011030</td>\n",
              "      <td>1</td>\n",
              "      <td>Alabama</td>\n",
              "      <td>AL</td>\n",
              "      <td>Mobile County</td>\n",
              "      <td>Satsuma</td>\n",
              "      <td>Creola city</td>\n",
              "      <td>City</td>\n",
              "      <td>place</td>\n",
              "      <td>36572</td>\n",
              "      <td>251</td>\n",
              "      <td>36878729</td>\n",
              "      <td>2374530</td>\n",
              "      <td>30.874343</td>\n",
              "      <td>-88.009442</td>\n",
              "      <td>63919</td>\n",
              "      <td>52814</td>\n",
              "      <td>47707</td>\n",
              "      <td>378.114619</td>\n",
              "    </tr>\n",
              "    <tr>\n",
              "      <th>4</th>\n",
              "      <td>1011040</td>\n",
              "      <td>1</td>\n",
              "      <td>Alabama</td>\n",
              "      <td>AL</td>\n",
              "      <td>Mobile County</td>\n",
              "      <td>Dauphin Island</td>\n",
              "      <td>Dauphin Island</td>\n",
              "      <td>Town</td>\n",
              "      <td>place</td>\n",
              "      <td>36528</td>\n",
              "      <td>251</td>\n",
              "      <td>16204185</td>\n",
              "      <td>413605152</td>\n",
              "      <td>30.250913</td>\n",
              "      <td>-88.171268</td>\n",
              "      <td>77948</td>\n",
              "      <td>67225</td>\n",
              "      <td>54270</td>\n",
              "      <td>282.320328</td>\n",
              "    </tr>\n",
              "  </tbody>\n",
              "</table>\n",
              "</div>\n",
              "      <button class=\"colab-df-convert\" onclick=\"convertToInteractive('df-53c11541-c263-49b3-a768-caaa6a8863dc')\"\n",
              "              title=\"Convert this dataframe to an interactive table.\"\n",
              "              style=\"display:none;\">\n",
              "        \n",
              "  <svg xmlns=\"http://www.w3.org/2000/svg\" height=\"24px\"viewBox=\"0 0 24 24\"\n",
              "       width=\"24px\">\n",
              "    <path d=\"M0 0h24v24H0V0z\" fill=\"none\"/>\n",
              "    <path d=\"M18.56 5.44l.94 2.06.94-2.06 2.06-.94-2.06-.94-.94-2.06-.94 2.06-2.06.94zm-11 1L8.5 8.5l.94-2.06 2.06-.94-2.06-.94L8.5 2.5l-.94 2.06-2.06.94zm10 10l.94 2.06.94-2.06 2.06-.94-2.06-.94-.94-2.06-.94 2.06-2.06.94z\"/><path d=\"M17.41 7.96l-1.37-1.37c-.4-.4-.92-.59-1.43-.59-.52 0-1.04.2-1.43.59L10.3 9.45l-7.72 7.72c-.78.78-.78 2.05 0 2.83L4 21.41c.39.39.9.59 1.41.59.51 0 1.02-.2 1.41-.59l7.78-7.78 2.81-2.81c.8-.78.8-2.07 0-2.86zM5.41 20L4 18.59l7.72-7.72 1.47 1.35L5.41 20z\"/>\n",
              "  </svg>\n",
              "      </button>\n",
              "      \n",
              "  <style>\n",
              "    .colab-df-container {\n",
              "      display:flex;\n",
              "      flex-wrap:wrap;\n",
              "      gap: 12px;\n",
              "    }\n",
              "\n",
              "    .colab-df-convert {\n",
              "      background-color: #E8F0FE;\n",
              "      border: none;\n",
              "      border-radius: 50%;\n",
              "      cursor: pointer;\n",
              "      display: none;\n",
              "      fill: #1967D2;\n",
              "      height: 32px;\n",
              "      padding: 0 0 0 0;\n",
              "      width: 32px;\n",
              "    }\n",
              "\n",
              "    .colab-df-convert:hover {\n",
              "      background-color: #E2EBFA;\n",
              "      box-shadow: 0px 1px 2px rgba(60, 64, 67, 0.3), 0px 1px 3px 1px rgba(60, 64, 67, 0.15);\n",
              "      fill: #174EA6;\n",
              "    }\n",
              "\n",
              "    [theme=dark] .colab-df-convert {\n",
              "      background-color: #3B4455;\n",
              "      fill: #D2E3FC;\n",
              "    }\n",
              "\n",
              "    [theme=dark] .colab-df-convert:hover {\n",
              "      background-color: #434B5C;\n",
              "      box-shadow: 0px 1px 3px 1px rgba(0, 0, 0, 0.15);\n",
              "      filter: drop-shadow(0px 1px 2px rgba(0, 0, 0, 0.3));\n",
              "      fill: #FFFFFF;\n",
              "    }\n",
              "  </style>\n",
              "\n",
              "      <script>\n",
              "        const buttonEl =\n",
              "          document.querySelector('#df-53c11541-c263-49b3-a768-caaa6a8863dc button.colab-df-convert');\n",
              "        buttonEl.style.display =\n",
              "          google.colab.kernel.accessAllowed ? 'block' : 'none';\n",
              "\n",
              "        async function convertToInteractive(key) {\n",
              "          const element = document.querySelector('#df-53c11541-c263-49b3-a768-caaa6a8863dc');\n",
              "          const dataTable =\n",
              "            await google.colab.kernel.invokeFunction('convertToInteractive',\n",
              "                                                     [key], {});\n",
              "          if (!dataTable) return;\n",
              "\n",
              "          const docLinkHtml = 'Like what you see? Visit the ' +\n",
              "            '<a target=\"_blank\" href=https://colab.research.google.com/notebooks/data_table.ipynb>data table notebook</a>'\n",
              "            + ' to learn more about interactive tables.';\n",
              "          element.innerHTML = '';\n",
              "          dataTable['output_type'] = 'display_data';\n",
              "          await google.colab.output.renderOutput(dataTable, element);\n",
              "          const docLink = document.createElement('div');\n",
              "          docLink.innerHTML = docLinkHtml;\n",
              "          element.appendChild(docLink);\n",
              "        }\n",
              "      </script>\n",
              "    </div>\n",
              "  </div>\n",
              "  "
            ]
          },
          "metadata": {},
          "execution_count": 19
        }
      ]
    },
    {
      "cell_type": "markdown",
      "source": [
        "#1 Find all the 'Metric' types.\n"
      ],
      "metadata": {
        "id": "PqQdWr3Gvt44"
      }
    },
    {
      "cell_type": "code",
      "source": [
        "# code goes here "
      ],
      "metadata": {
        "id": "9MXL-1LavuRS"
      },
      "execution_count": null,
      "outputs": []
    },
    {
      "cell_type": "markdown",
      "source": [
        "#2 What does 'countyfips' = 0 indicate?\n"
      ],
      "metadata": {
        "id": "Nbw0CMiavupv"
      }
    },
    {
      "cell_type": "code",
      "source": [
        "# code goes here "
      ],
      "metadata": {
        "id": "UIeiFVG1vu0p"
      },
      "execution_count": null,
      "outputs": []
    },
    {
      "cell_type": "markdown",
      "source": [
        "#3 Find the number of counties listed for Alabama.\n"
      ],
      "metadata": {
        "id": "60kNJwu6vu-6"
      }
    },
    {
      "cell_type": "code",
      "source": [
        "# code goes here "
      ],
      "metadata": {
        "id": "Knsy8YpovvJo"
      },
      "execution_count": null,
      "outputs": []
    },
    {
      "cell_type": "markdown",
      "source": [
        "#4 Which county in Arkansas has the least number of insured?\n"
      ],
      "metadata": {
        "id": "f20Erg7KvvRb"
      }
    },
    {
      "cell_type": "code",
      "source": [
        "# code goes here "
      ],
      "metadata": {
        "id": "GLsdUMTcvvaa"
      },
      "execution_count": null,
      "outputs": []
    },
    {
      "cell_type": "markdown",
      "source": [
        "#5 Which state has the the highest number of total uninsured?\n",
        "income table --\n"
      ],
      "metadata": {
        "id": "lBItUj1zvviK"
      }
    },
    {
      "cell_type": "code",
      "source": [
        "# code goes here "
      ],
      "metadata": {
        "id": "CHbQGtukvvqe"
      },
      "execution_count": null,
      "outputs": []
    },
    {
      "cell_type": "markdown",
      "source": [
        "#6 For the income dataset how many different place types 'Type' are there?\n"
      ],
      "metadata": {
        "id": "XSrsKweXvvy8"
      }
    },
    {
      "cell_type": "code",
      "source": [
        "# code goes here "
      ],
      "metadata": {
        "id": "GHKCxzScvv7-"
      },
      "execution_count": null,
      "outputs": []
    },
    {
      "cell_type": "markdown",
      "source": [
        "#7 What is the maximum 'Mean' income for a county in the state of Washington?\n"
      ],
      "metadata": {
        "id": "cvIA6MhCvwGj"
      }
    },
    {
      "cell_type": "code",
      "source": [
        "# code goes here "
      ],
      "metadata": {
        "id": "7GV4R4O0vwPq"
      },
      "execution_count": null,
      "outputs": []
    },
    {
      "cell_type": "markdown",
      "source": [
        "#8 Which county in the state of Washington has the highest 'Mean' income?\n"
      ],
      "metadata": {
        "id": "fNvdQt_WvwZe"
      }
    },
    {
      "cell_type": "code",
      "source": [
        "# code goes here "
      ],
      "metadata": {
        "id": "NxqKvuVovwiF"
      },
      "execution_count": null,
      "outputs": []
    },
    {
      "cell_type": "markdown",
      "source": [
        "#9 How much does the highest 'Mean' income for the state of Washington differ from the highest 'Median' income?\n",
        "join the datasets --\n"
      ],
      "metadata": {
        "id": "QRrPiPl1vwrE"
      }
    },
    {
      "cell_type": "code",
      "source": [
        "# code goes here "
      ],
      "metadata": {
        "id": "7G4TAbWCvw1Y"
      },
      "execution_count": null,
      "outputs": []
    },
    {
      "cell_type": "markdown",
      "source": [
        "#10 Perform an inner join of the coverage and income tables.\n"
      ],
      "metadata": {
        "id": "QUhBhIbcwZnz"
      }
    },
    {
      "cell_type": "code",
      "source": [
        "# code goes here "
      ],
      "metadata": {
        "id": "hBCsGY_rw6uV"
      },
      "execution_count": null,
      "outputs": []
    },
    {
      "cell_type": "markdown",
      "source": [
        "#11 Add an order by 'Mean' income to the join statement, and display the first 20 rows.\n"
      ],
      "metadata": {
        "id": "O6ZKBdeOwbNz"
      }
    },
    {
      "cell_type": "code",
      "source": [
        "# code goes here "
      ],
      "metadata": {
        "id": "vKF9NxZew7Rd"
      },
      "execution_count": null,
      "outputs": []
    },
    {
      "cell_type": "markdown",
      "source": [
        "#12 Reverse the order of 'Mean' income and display the first 20 rows.\n"
      ],
      "metadata": {
        "id": "ULdmBzfUwdgm"
      }
    },
    {
      "cell_type": "code",
      "source": [
        "# code goes here "
      ],
      "metadata": {
        "id": "36y2N1aZw8BD"
      },
      "execution_count": null,
      "outputs": []
    },
    {
      "cell_type": "markdown",
      "source": [
        "#13 Add an order by 'Percent Uninsured (All)', and display the first 20 rows.\n"
      ],
      "metadata": {
        "id": "sedUqsZUwin-"
      }
    },
    {
      "cell_type": "code",
      "source": [
        "# code goes here "
      ],
      "metadata": {
        "id": "uNtKZ_FAw85v"
      },
      "execution_count": null,
      "outputs": []
    },
    {
      "cell_type": "markdown",
      "source": [
        "#14 Reverse the order of  'Percent Uninsured (All)', and display the first 20 rows.\n"
      ],
      "metadata": {
        "id": "pYxgQcA_wkmT"
      }
    },
    {
      "cell_type": "code",
      "source": [
        "# code goes here "
      ],
      "metadata": {
        "id": "yP0Ge6gUw9l4"
      },
      "execution_count": null,
      "outputs": []
    },
    {
      "cell_type": "markdown",
      "source": [
        "#15 Is there evidence for a correlation between income level and the rate of uninsured for county level data?"
      ],
      "metadata": {
        "id": "yyBaJQd7wmb5"
      }
    },
    {
      "cell_type": "code",
      "source": [
        "# code goes here "
      ],
      "metadata": {
        "id": "xVTXcLvjw-Ph"
      },
      "execution_count": null,
      "outputs": []
    }
  ]
}